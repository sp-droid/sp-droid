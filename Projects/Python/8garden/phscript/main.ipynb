{
 "cells": [
  {
   "cell_type": "code",
   "execution_count": 37,
   "metadata": {},
   "outputs": [],
   "source": [
    "import matplotlib.pyplot as plt\n",
    "import numpy as np\n",
    "import myML\n",
    "import os\n",
    "from PIL import Image\n",
    "Image.MAX_IMAGE_PIXELS = None"
   ]
  },
  {
   "cell_type": "code",
   "execution_count": 38,
   "metadata": {},
   "outputs": [],
   "source": [
    "def RGBtohue(RGB):\n",
    "    R, G, B = RGB\n",
    "    if R>=G and G>=B: temp = (G-B)/(R-B)\n",
    "    elif G>=R and R>=B: temp = 2-(R-B)/(G-B)\n",
    "    elif G>=B and B>=R: temp = 2+(B-R)/(G-R)\n",
    "    elif B>=G and G>=R: temp = 4-(G-R)/(B-R)\n",
    "    elif B>=R and R>=G: temp = 4+(R-G)/(B-G)\n",
    "    elif R>=B and B>=G: temp = 6-(B-G)/(R-G)\n",
    "    return temp*60"
   ]
  },
  {
   "cell_type": "code",
   "execution_count": 39,
   "metadata": {},
   "outputs": [
    {
     "data": {
      "image/png": "[encoded data removed]",
      "text/plain": [
       "<Figure size 1728x216 with 1 Axes>"
      ]
     },
     "metadata": {
      "needs_background": "light"
     },
     "output_type": "display_data"
    }
   ],
   "source": [
    "# Load training images. Each image shouldn't have unwanted pixels (surroundings) and must be named with the known pH value\n",
    "location = os.getcwd()+'\\\\training\\\\'\n",
    "rg = np.empty((2,len(os.listdir(location))))\n",
    "Y_train = np.empty((1,len(os.listdir(location))))\n",
    "X_train = np.empty((1,len(os.listdir(location))))\n",
    "\n",
    "for count, file in enumerate(os.listdir(location)):\n",
    "    RGB = [np.mean(x) for x in np.array(Image.open(location+file)).T]\n",
    "    X_train[0,count] = RGBtohue(RGB)+20\n",
    "    if X_train[0,count]>360: X_train[0,count]-=360\n",
    "    Y_train[0,count] = float(file.split('.jpg')[0])\n",
    "\n",
    "#Sort by ascending ph\n",
    "order = np.argsort(X_train)[0]\n",
    "X_train = X_train[:,order]\n",
    "Y_train = Y_train[:,order]\n",
    "\n",
    "\n",
    "plt.hlines(1,0,360)  # Draw a horizontal line\n",
    "plt.xlim(0,360)\n",
    "plt.ylim(0.5,1.5)\n",
    "\n",
    "y = np.ones(np.shape(X_train[0,:]))   # Make all y values the same\n",
    "plt.plot(X_train[0,:],y,'|',ms = 40)  # Plot a line at each location specified\n",
    "for count in range(X_train.shape[1]):\n",
    "    if count % 2: pos = 1.2\n",
    "    else: pos = 0.8\n",
    "    plt.annotate(round(Y_train[0,count],1), [X_train[0,count], pos], fontsize=8)\n",
    "plt.axis('off')\n",
    "plt.rcParams['figure.figsize'] = (24, 3)\n",
    "plt.show()\n",
    "\n",
    "#Normalization\n",
    "Xnorm, Ynorm = myML.norm0to1_minmax([1,1],[0,0]), myML.norm0to1_minmax([14],[0])\n",
    "#X_train, Y_train = Xnorm.normalize(X_train), Ynorm.normalize(Y_train)\n",
    "Y_train = Ynorm.normalize(Y_train)"
   ]
  },
  {
   "cell_type": "code",
   "execution_count": 40,
   "metadata": {},
   "outputs": [
    {
     "data": {
      "text/plain": [
       "array([[2.3 , 2.31, 5.2 , 7.5 , 6.6 , 8.3 ]])"
      ]
     },
     "execution_count": 40,
     "metadata": {},
     "output_type": "execute_result"
    }
   ],
   "source": [
    "Ynorm.recover(Y_train)"
   ]
  },
  {
   "cell_type": "code",
   "execution_count": 9,
   "metadata": {},
   "outputs": [
    {
     "ename": "KeyboardInterrupt",
     "evalue": "",
     "output_type": "error",
     "traceback": [
      "\u001b[1;31m---------------------------------------------------------------------------\u001b[0m",
      "\u001b[1;31mKeyboardInterrupt\u001b[0m                         Traceback (most recent call last)",
      "\u001b[1;32m<ipython-input-9-339c65dfa449>\u001b[0m in \u001b[0;36m<module>\u001b[1;34m\u001b[0m\n\u001b[0;32m     17\u001b[0m         \u001b[0mnp\u001b[0m\u001b[1;33m.\u001b[0m\u001b[0mrandom\u001b[0m\u001b[1;33m.\u001b[0m\u001b[0mseed\u001b[0m\u001b[1;33m(\u001b[0m\u001b[1;32mNone\u001b[0m\u001b[1;33m)\u001b[0m\u001b[1;33m\u001b[0m\u001b[1;33m\u001b[0m\u001b[0m\n\u001b[0;32m     18\u001b[0m         \u001b[0mneuralnetwork\u001b[0m \u001b[1;33m=\u001b[0m \u001b[0mmyML\u001b[0m\u001b[1;33m.\u001b[0m\u001b[0mANN\u001b[0m\u001b[1;33m(\u001b[0m\u001b[0mnodes\u001b[0m\u001b[1;33m,\u001b[0m \u001b[0mactivation\u001b[0m\u001b[1;33m,\u001b[0m \u001b[0mlossname\u001b[0m\u001b[1;33m)\u001b[0m\u001b[1;33m\u001b[0m\u001b[1;33m\u001b[0m\u001b[0m\n\u001b[1;32m---> 19\u001b[1;33m         \u001b[0mcosts\u001b[0m \u001b[1;33m=\u001b[0m \u001b[0mneuralnetwork\u001b[0m\u001b[1;33m.\u001b[0m\u001b[0mtrain\u001b[0m\u001b[1;33m(\u001b[0m\u001b[0mX_train\u001b[0m\u001b[1;33m,\u001b[0m \u001b[0mY_train\u001b[0m\u001b[1;33m,\u001b[0m \u001b[0mepochs\u001b[0m\u001b[1;33m,\u001b[0m \u001b[0moptimizer\u001b[0m\u001b[1;33m,\u001b[0m \u001b[0mlr\u001b[0m\u001b[1;33m,\u001b[0m \u001b[0mlambd\u001b[0m\u001b[1;33m)\u001b[0m\u001b[1;33m\u001b[0m\u001b[1;33m\u001b[0m\u001b[0m\n\u001b[0m\u001b[0;32m     20\u001b[0m         \u001b[1;32mif\u001b[0m \u001b[0mcosts\u001b[0m\u001b[1;33m[\u001b[0m\u001b[0mepochs\u001b[0m\u001b[1;33m-\u001b[0m\u001b[1;36m1\u001b[0m\u001b[1;33m]\u001b[0m\u001b[1;33m<\u001b[0m\u001b[0maux_train\u001b[0m\u001b[1;33m:\u001b[0m \u001b[0maux_train\u001b[0m \u001b[1;33m=\u001b[0m \u001b[0mcosts\u001b[0m\u001b[1;33m[\u001b[0m\u001b[0mepochs\u001b[0m\u001b[1;33m-\u001b[0m\u001b[1;36m1\u001b[0m\u001b[1;33m]\u001b[0m\u001b[1;33m\u001b[0m\u001b[1;33m\u001b[0m\u001b[0m\n\u001b[0;32m     21\u001b[0m \u001b[1;33m\u001b[0m\u001b[0m\n",
      "\u001b[1;32mq:\\Pablo\\Proyectos\\0garden\\phscript\\myML.py\u001b[0m in \u001b[0;36mtrain\u001b[1;34m(self, x_train, y_train, epochs, optimizer, lr, lambd, printepochs)\u001b[0m\n\u001b[0;32m    263\u001b[0m                 \u001b[1;32mif\u001b[0m \u001b[1;33m(\u001b[0m\u001b[0mepoch\u001b[0m\u001b[1;33m+\u001b[0m\u001b[1;36m1\u001b[0m\u001b[1;33m)\u001b[0m \u001b[1;33m%\u001b[0m \u001b[0mprintepochs\u001b[0m \u001b[1;33m==\u001b[0m \u001b[1;36m0\u001b[0m\u001b[1;33m:\u001b[0m \u001b[0mprint\u001b[0m\u001b[1;33m(\u001b[0m\u001b[1;34m'Epoch nº'\u001b[0m\u001b[1;33m+\u001b[0m\u001b[0mstr\u001b[0m\u001b[1;33m(\u001b[0m\u001b[0mepoch\u001b[0m\u001b[1;33m)\u001b[0m\u001b[1;33m)\u001b[0m\u001b[1;33m\u001b[0m\u001b[1;33m\u001b[0m\u001b[0m\n\u001b[0;32m    264\u001b[0m             \u001b[1;32mif\u001b[0m \u001b[0moptimizer\u001b[0m \u001b[1;33m==\u001b[0m \u001b[1;34m'GD'\u001b[0m\u001b[1;33m:\u001b[0m                                           \u001b[1;31m#Gradient descent\u001b[0m\u001b[1;33m\u001b[0m\u001b[1;33m\u001b[0m\u001b[0m\n\u001b[1;32m--> 265\u001b[1;33m                 \u001b[0my\u001b[0m \u001b[1;33m=\u001b[0m \u001b[0mself\u001b[0m\u001b[1;33m.\u001b[0m\u001b[0mtest\u001b[0m\u001b[1;33m(\u001b[0m\u001b[0mx_train\u001b[0m\u001b[1;33m)\u001b[0m\u001b[1;33m\u001b[0m\u001b[1;33m\u001b[0m\u001b[0m\n\u001b[0m\u001b[0;32m    266\u001b[0m \u001b[1;33m\u001b[0m\u001b[0m\n\u001b[0;32m    267\u001b[0m                 \u001b[0mdJdy\u001b[0m \u001b[1;33m=\u001b[0m \u001b[0mself\u001b[0m\u001b[1;33m.\u001b[0m\u001b[0md_loss\u001b[0m\u001b[1;33m(\u001b[0m\u001b[0my_train\u001b[0m\u001b[1;33m,\u001b[0m \u001b[0my\u001b[0m\u001b[1;33m)\u001b[0m\u001b[1;33m\u001b[0m\u001b[1;33m\u001b[0m\u001b[0m\n",
      "\u001b[1;32mq:\\Pablo\\Proyectos\\0garden\\phscript\\myML.py\u001b[0m in \u001b[0;36mtest\u001b[1;34m(self, x)\u001b[0m\n\u001b[0;32m    236\u001b[0m         \u001b[0mself\u001b[0m\u001b[1;33m.\u001b[0m\u001b[0mtypealert\u001b[0m\u001b[1;33m(\u001b[0m\u001b[0mx\u001b[0m\u001b[1;33m)\u001b[0m\u001b[1;33m\u001b[0m\u001b[1;33m\u001b[0m\u001b[0m\n\u001b[0;32m    237\u001b[0m         \u001b[1;32mfor\u001b[0m \u001b[0mlayer\u001b[0m \u001b[1;32min\u001b[0m \u001b[0mself\u001b[0m\u001b[1;33m.\u001b[0m\u001b[0mlayers\u001b[0m\u001b[1;33m:\u001b[0m\u001b[1;33m\u001b[0m\u001b[1;33m\u001b[0m\u001b[0m\n\u001b[1;32m--> 238\u001b[1;33m             \u001b[0mx\u001b[0m \u001b[1;33m=\u001b[0m \u001b[0mlayer\u001b[0m\u001b[1;33m.\u001b[0m\u001b[0mfeedforward\u001b[0m\u001b[1;33m(\u001b[0m\u001b[0mx\u001b[0m\u001b[1;33m)\u001b[0m\u001b[1;33m\u001b[0m\u001b[1;33m\u001b[0m\u001b[0m\n\u001b[0m\u001b[0;32m    239\u001b[0m         \u001b[1;32mreturn\u001b[0m \u001b[0mx\u001b[0m\u001b[1;33m\u001b[0m\u001b[1;33m\u001b[0m\u001b[0m\n\u001b[0;32m    240\u001b[0m \u001b[1;33m\u001b[0m\u001b[0m\n",
      "\u001b[1;32mq:\\Pablo\\Proyectos\\0garden\\phscript\\myML.py\u001b[0m in \u001b[0;36mfeedforward\u001b[1;34m(self, x)\u001b[0m\n\u001b[0;32m    165\u001b[0m         \u001b[0mself\u001b[0m\u001b[1;33m.\u001b[0m\u001b[0mm\u001b[0m \u001b[1;33m=\u001b[0m \u001b[0mx\u001b[0m\u001b[1;33m.\u001b[0m\u001b[0mshape\u001b[0m\u001b[1;33m[\u001b[0m\u001b[1;36m1\u001b[0m\u001b[1;33m]\u001b[0m                                             \u001b[1;31m#Size of the batch\u001b[0m\u001b[1;33m\u001b[0m\u001b[1;33m\u001b[0m\u001b[0m\n\u001b[0;32m    166\u001b[0m         \u001b[0mself\u001b[0m\u001b[1;33m.\u001b[0m\u001b[0mz\u001b[0m \u001b[1;33m=\u001b[0m \u001b[0mself\u001b[0m\u001b[1;33m.\u001b[0m\u001b[0mw\u001b[0m \u001b[1;33m@\u001b[0m \u001b[0mself\u001b[0m\u001b[1;33m.\u001b[0m\u001b[0mx\u001b[0m \u001b[1;33m+\u001b[0m \u001b[0mself\u001b[0m\u001b[1;33m.\u001b[0m\u001b[0mb\u001b[0m \u001b[1;33m@\u001b[0m \u001b[0mnp\u001b[0m\u001b[1;33m.\u001b[0m\u001b[0mones\u001b[0m\u001b[1;33m(\u001b[0m\u001b[1;33m(\u001b[0m\u001b[1;36m1\u001b[0m\u001b[1;33m,\u001b[0m \u001b[0mself\u001b[0m\u001b[1;33m.\u001b[0m\u001b[0mm\u001b[0m\u001b[1;33m)\u001b[0m\u001b[1;33m)\u001b[0m        \u001b[1;31m#Inputs times weights plus biases\u001b[0m\u001b[1;33m\u001b[0m\u001b[1;33m\u001b[0m\u001b[0m\n\u001b[1;32m--> 167\u001b[1;33m         \u001b[0mself\u001b[0m\u001b[1;33m.\u001b[0m\u001b[0my\u001b[0m \u001b[1;33m=\u001b[0m \u001b[0mself\u001b[0m\u001b[1;33m.\u001b[0m\u001b[0mact\u001b[0m\u001b[1;33m(\u001b[0m\u001b[0mself\u001b[0m\u001b[1;33m.\u001b[0m\u001b[0mz\u001b[0m\u001b[1;33m)\u001b[0m                                       \u001b[1;31m#Output from the current layer\u001b[0m\u001b[1;33m\u001b[0m\u001b[1;33m\u001b[0m\u001b[0m\n\u001b[0m\u001b[0;32m    168\u001b[0m         \u001b[1;32mreturn\u001b[0m \u001b[0mself\u001b[0m\u001b[1;33m.\u001b[0m\u001b[0my\u001b[0m\u001b[1;33m\u001b[0m\u001b[1;33m\u001b[0m\u001b[0m\n\u001b[0;32m    169\u001b[0m \u001b[1;33m\u001b[0m\u001b[0m\n",
      "\u001b[1;31mKeyboardInterrupt\u001b[0m: "
     ]
    }
   ],
   "source": [
    "#Cross-validation using the training samples to find the elbow of the curve (to avoid under or overfitting)\n",
    "epochs = 500        #Times that the entire dataset is used to train the NN\n",
    "lr = 2            #Learning rate\n",
    "lambd = 0           #Regularization term\n",
    "activation = ['ReLU','sigmoid']\n",
    "lossname = 'MSE'\n",
    "optimizer = 'GD'\n",
    "\n",
    "n = 14\n",
    "yplot_train = np.zeros(n)\n",
    "times = 10\n",
    "for i in range(1,n+1):\n",
    "    nodes = [X_train.shape[0], i, Y_train.shape[0]]\n",
    "    #print('Trying with '+str(i)+' nodes in the hidden layer')\n",
    "    aux_train = 500\n",
    "    for j in range(times):\n",
    "        np.random.seed(None)\n",
    "        neuralnetwork = myML.ANN(nodes, activation, lossname)\n",
    "        costs = neuralnetwork.train(X_train, Y_train, epochs, optimizer, lr, lambd)\n",
    "        if costs[epochs-1]<aux_train: aux_train = costs[epochs-1]\n",
    "\n",
    "    yplot_train[i-1] = aux_train\n",
    "\n",
    "plt.plot(range(1,n+1),yplot_train,label='Training set error')\n",
    "plt.xlabel('Nº of neurons in hidden layer')\n",
    "plt.ylabel('Cost function error')\n",
    "plt.legend(loc='best')\n",
    "plt.show()"
   ]
  },
  {
   "cell_type": "code",
   "execution_count": 53,
   "metadata": {},
   "outputs": [
    {
     "name": "stdout",
     "output_type": "stream",
     "text": [
      "[[ 1.    1.1   1.11  2.    2.1   2.11  2.3   2.31  2.32  3.    3.01  3.02\n",
      "   4.    4.01  4.02  5.    5.01  5.02  5.2   6.    6.01  6.02  6.6   7.\n",
      "   7.01  7.02  7.9   8.    8.01  8.02  8.3   9.    9.01  9.02 10.   10.01\n",
      "  10.02 11.   11.01 12.   12.01 12.02 13.   13.01 13.98 13.99 14.  ]]\n",
      "[[ 2.4675001   2.28738046  2.17716771  2.33307849  2.12566216  2.12612401\n",
      "   2.2472703   2.14255828  2.1227639   3.13101374  2.20557874  2.26780287\n",
      "   5.14754034  2.52419646  3.01622583  5.96853447  4.62810856  6.55274569\n",
      "   5.69817218  6.13425919  5.70397886  6.95438093  6.21431999  6.81274797\n",
      "   6.23915265  7.81954833  6.04413737  7.81686434  8.17100264  8.20210351\n",
      "   8.2202783   8.61684809  8.09746847  8.82862443  9.1302144  12.41629315\n",
      "  11.69594896 12.49824342 11.85244986 12.25746615 12.03923477 12.42566125\n",
      "  12.45008555 11.78042399 12.37768439 12.39518807 12.46858748]]\n"
     ]
    },
    {
     "data": {
      "image/png": "[encoded data removed]",
      "text/plain": [
       "<Figure size 432x288 with 1 Axes>"
      ]
     },
     "metadata": {
      "needs_background": "light"
     },
     "output_type": "display_data"
    },
    {
     "data": {
      "text/plain": [
       "0.0023393879689518012"
      ]
     },
     "execution_count": 53,
     "metadata": {},
     "output_type": "execute_result"
    }
   ],
   "source": [
    "#Train a model for future use\n",
    "nodes = [X_train.shape[0], 6, Y_train.shape[0]]\n",
    "activation = ['ReLU','sigmoid']\n",
    "loss = 'MSE'\n",
    "epochs = 10000\n",
    "\n",
    "model = myML.ANN(nodes, activation, loss)\n",
    "costs = model.train(X_train, Y_train, epochs, 'GD', lr=0.1, lambd=0, printepochs=False)\n",
    "\n",
    "print(Ynorm.recover(Y_train))\n",
    "print(Ynorm.recover(model.test(X_train)))\n",
    "\n",
    "plt.plot(range(epochs),costs)\n",
    "plt.xlabel('Epoch')\n",
    "plt.ylabel('Cost function error')\n",
    "plt.show()\n",
    "costs[-1]"
   ]
  },
  {
   "cell_type": "code",
   "execution_count": 64,
   "metadata": {},
   "outputs": [
    {
     "name": "stdout",
     "output_type": "stream",
     "text": [
      "0vinegar8\n",
      "7.886\n",
      "1vinegar8\n",
      "5.555\n",
      "2fontvella_sacalm\n",
      "12.414\n",
      "3tapwaterhidro\n",
      "11.858\n",
      "4bottle7\n",
      "11.684\n",
      "5bottle4,93\n",
      "11.774\n",
      "6bottle4\n",
      "11.38\n"
     ]
    }
   ],
   "source": [
    "# Load training images. Each image shouldn't have unwanted pixels (surroundings) and must be named with the known pH value\n",
    "location = os.getcwd()+'\\\\test\\\\'\n",
    "X = np.empty((2,1))\n",
    "\n",
    "for count, file in enumerate(os.listdir(location)):\n",
    "    RGB = [np.mean(x) for x in np.array(Image.open(location+file)).T]\n",
    "    X[:,0] = RGB[0]/(RGB[0]+RGB[1]+RGB[2]), RGB[1]/(RGB[0]+RGB[1]+RGB[2])\n",
    "    print(file.split('.jpg')[0])\n",
    "    X = Xnorm.normalize(X)\n",
    "\n",
    "    Y = model.test(X)\n",
    "    print(round(Ynorm.recover(Y)[0,0],3))"
   ]
  }
 ],
 "metadata": {
  "interpreter": {
   "hash": "334db4cc05ce238ca1a7019a643678253efa18870d623550a72f43be86b1c78d"
  },
  "kernelspec": {
   "display_name": "Python 3.9.2 64-bit",
   "language": "python",
   "name": "python3"
  },
  "language_info": {
   "codemirror_mode": {
    "name": "ipython",
    "version": 3
   },
   "file_extension": ".py",
   "mimetype": "text/x-python",
   "name": "python",
   "nbconvert_exporter": "python",
   "pygments_lexer": "ipython3",
   "version": "3.9.2"
  },
  "orig_nbformat": 4
 },
 "nbformat": 4,
 "nbformat_minor": 2
}
