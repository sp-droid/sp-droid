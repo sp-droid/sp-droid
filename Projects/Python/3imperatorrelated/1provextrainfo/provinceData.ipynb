{
 "cells": [
  {
   "cell_type": "code",
   "execution_count": null,
   "metadata": {},
   "outputs": [],
   "source": [
    "from PIL import Image\n",
    "\n",
    "import numpy as np\n",
    "import pandas as pd\n",
    "from tqdm.notebook import tqdm\n",
    "\n",
    "Image.MAX_IMAGE_PIXELS = None"
   ]
  },
  {
   "attachments": {},
   "cell_type": "markdown",
   "metadata": {},
   "source": [
    "# Colormap"
   ]
  },
  {
   "cell_type": "code",
   "execution_count": null,
   "metadata": {},
   "outputs": [],
   "source": [
    "min_latitude = -60\n",
    "max_latitude = 70\n",
    "desiredSizes = (16384, 8192)\n",
    "\n",
    "colormap = Image.open('inputs/bluemarble/NASAaugust.png')\n",
    "\n",
    "# Get the width and height of the image\n",
    "width, height = colormap.size\n",
    "\n",
    "# Calculate the y-coordinates for the clipping range\n",
    "min_y = int((90 - max_latitude) / 180 * height)\n",
    "max_y = int((90 - min_latitude) / 180 * height)\n",
    "\n",
    "# Create a new image with the clipped region\n",
    "colormap = colormap.crop((0, min_y, width, max_y)).resize(desiredSizes, Image.Resampling.LANCZOS)\n",
    "colormap.save('outputs/colormap.png')"
   ]
  },
  {
   "attachments": {},
   "cell_type": "markdown",
   "metadata": {},
   "source": [
    "# Loading"
   ]
  },
  {
   "cell_type": "code",
   "execution_count": null,
   "metadata": {},
   "outputs": [],
   "source": [
    "## Load name database\n",
    "file_location = 'inputs/databases/worldcities.csv'\n",
    "worldcities = pd.read_csv(file_location, delimiter=';')\n",
    "print(worldcities.head())"
   ]
  },
  {
   "cell_type": "code",
   "execution_count": null,
   "metadata": {},
   "outputs": [],
   "source": [
    "## Load CSVs\n",
    "definitions = pd.read_csv('inputs/definition.csv', delimiter=';')\n",
    "definitions = definitions[['R','G','B']].to_numpy()\n",
    "definitions"
   ]
  },
  {
   "cell_type": "code",
   "execution_count": null,
   "metadata": {},
   "outputs": [],
   "source": [
    "locators = {}\n",
    "with open('inputs/city_locators.txt', 'r') as file:\n",
    "    contents = file.read().splitlines()\n",
    "    for line in range(8, len(contents)-4, 6):\n",
    "        ids = int(contents[line].split(\"=\")[1])\n",
    "        \n",
    "        temp = contents[line+1].split(\" \")[1:-1]\n",
    "\n",
    "        newY = (6144-int(temp[2]))/6144*8192\n",
    "        locators[ids] = (int(temp[0]), newY)"
   ]
  },
  {
   "cell_type": "code",
   "execution_count": null,
   "metadata": {},
   "outputs": [],
   "source": [
    "names = {}\n",
    "with open(f'inputs/provincenames_l_english.yml', 'r') as file:\n",
    "    contents = file.read().splitlines()\n",
    "    for line in range(1, len(contents)):\n",
    "        names[line] = contents[line].split('\"')[1]"
   ]
  },
  {
   "cell_type": "code",
   "execution_count": null,
   "metadata": {},
   "outputs": [],
   "source": [
    "imgProvs = Image.open('inputs/provinces.png')"
   ]
  },
  {
   "cell_type": "code",
   "execution_count": null,
   "metadata": {},
   "outputs": [],
   "source": [
    "temp = np.array(worldcities['lng'])\n",
    "worldcities['x'] = (0.5+temp/360)*16384\n",
    "\n",
    "temp = np.array(worldcities['lat'])\n",
    "worldcities['y'] = (70-temp)*(8192/130)\n",
    "worldcities.head(2)"
   ]
  },
  {
   "attachments": {},
   "cell_type": "markdown",
   "metadata": {},
   "source": [
    "# Coordinates"
   ]
  },
  {
   "cell_type": "code",
   "execution_count": null,
   "metadata": {},
   "outputs": [],
   "source": [
    "latlong = {}\n",
    "for i,ids in enumerate(locators):\n",
    "    x, y = locators[ids]\n",
    "\n",
    "    long = 360*(x/16384-0.5)\n",
    "    lat = 70-130/8192*y\n",
    "    \n",
    "    latlong[ids] = (lat,long)"
   ]
  },
  {
   "attachments": {},
   "cell_type": "markdown",
   "metadata": {},
   "source": [
    "# Names"
   ]
  },
  {
   "cell_type": "code",
   "execution_count": null,
   "metadata": {},
   "outputs": [],
   "source": [
    "def squaredDistance(pointA, pointB):\n",
    "    dist, m = 0, len(pointA)\n",
    "    for dim in range(m):\n",
    "        dist += (pointA[dim]-pointB[dim])**2\n",
    "    return dist\n",
    "\n",
    "def nearestCity(xy: tuple, locators: dict):\n",
    "    distances = {}\n",
    "    for ids in locators:\n",
    "        distances[ids] = squaredDistance(xy, locators[ids])\n",
    "\n",
    "    nearest = min(distances, key=distances.get)\n",
    "    return nearest"
   ]
  },
  {
   "cell_type": "code",
   "execution_count": null,
   "metadata": {},
   "outputs": [],
   "source": [
    "used = []\n",
    "for i in tqdm(range(len(worldcities))):\n",
    "    city = worldcities.iloc[i,:]\n",
    "    nearest = nearestCity((city['x'],city['y']), locators)\n",
    "\n",
    "    if nearest not in used:\n",
    "        names[nearest] = city['city_ascii']\n",
    "        used.append(nearest)"
   ]
  },
  {
   "attachments": {},
   "cell_type": "markdown",
   "metadata": {},
   "source": [
    "# Areas"
   ]
  },
  {
   "cell_type": "code",
   "execution_count": null,
   "metadata": {},
   "outputs": [],
   "source": [
    "pixels, counts = np.unique(np.array(imgProvs).reshape(-1,3), axis=0, return_counts=True)"
   ]
  },
  {
   "cell_type": "code",
   "execution_count": null,
   "metadata": {},
   "outputs": [],
   "source": [
    "def area_coef(lat, long, deltaLat, deltaLong): #Area in sq miles\n",
    "    earthR = 6378.137\n",
    "\n",
    "    d1 = np.sin(0.5*deltaLat)**2\n",
    "    d1 = 2*earthR*np.arctan2(np.sqrt(d1),np.sqrt(1-d1))\n",
    "\n",
    "    d2 = np.cos(lat)**2*np.sin(0.5*deltaLong)**2\n",
    "    d2 = 2*earthR*np.arctan2(np.sqrt(d2),np.sqrt(1-d2))\n",
    "\n",
    "    area = d1*d2 #Area in km2\n",
    "    #area *= 0.3861\n",
    "    return area\n",
    "\n",
    "inhabitables = list(range(4883,5692+1))\n",
    "inhabitables.append(1)\n",
    "areas = {}\n",
    "diagonals = {}\n",
    "for j, ids in tqdm(enumerate(locators)):\n",
    "    if ids in inhabitables: continue\n",
    "\n",
    "    provColor = tuple(definitions[ids])\n",
    "    for i, color in enumerate(pixels):\n",
    "        if provColor==tuple(color):\n",
    "            break\n",
    "    count = counts[i]\n",
    "\n",
    "    x, y = locators[ids]\n",
    "    deltaLong = np.deg2rad(abs(360*((x+1)/16384-0.5)-360*(x/16384-0.5)))\n",
    "    deltaLat = np.deg2rad(abs((70-130/8192*(y+1))-(70-130/8192*y)))\n",
    "\n",
    "    lat = np.deg2rad(latlong[ids][0])\n",
    "    long = np.deg2rad(latlong[ids][1])\n",
    "\n",
    "    areas[ids] = round(count*area_coef(lat, long, deltaLat, deltaLong), 3)\n",
    "    diagonals[ids] = np.sqrt(areas[ids])"
   ]
  },
  {
   "attachments": {},
   "cell_type": "markdown",
   "metadata": {},
   "source": [
    "# Tree/Rock layers\n",
    "With advanced real data (temperature, rainfall, accurate conversion to lat long) we can have a better model to paint tree / rock / grasses layers"
   ]
  },
  {
   "cell_type": "code",
   "execution_count": null,
   "metadata": {},
   "outputs": [],
   "source": []
  },
  {
   "attachments": {},
   "cell_type": "markdown",
   "metadata": {},
   "source": [
    "# Saving province data"
   ]
  },
  {
   "cell_type": "code",
   "execution_count": null,
   "metadata": {},
   "outputs": [],
   "source": [
    "# Province parameters\n",
    "climateKeys = {'Arid':-1, 'Warm':0, 'Mild':1, 'Normal':2, 'Severe':3}\n",
    "with open('outputs/provSetup.txt','w') as file:\n",
    "    file.write('namespace = provSetup\\n\\nprovSetup.1 = {\\n\\ttype = country_event\\n\\n\\thidden = yes\\n\\n\\timmediate = {\\n')\n",
    "    for ids in names:\n",
    "        if ids in inhabitables: continue\n",
    "        file.write(f'\\t\\tp:{ids} = {\"{\"} ')\n",
    "        #XY\n",
    "        file.write(f'set_variable = {\"{\"} name = dat_x value = {locators[ids][0]} {\"}\"} ')\n",
    "        file.write(f'set_variable = {\"{\"} name = dat_y value = {6144-locators[ids][1]} {\"}\"} ')\n",
    "        #latitude-longitude\n",
    "        file.write(f'set_variable = {\"{\"} name = dat_lat value = {round(latlong[ids][0],2)} {\"}\"} ')\n",
    "        file.write(f'set_variable = {\"{\"} name = dat_lng value = {round(latlong[ids][1],2)} {\"}\"} ')\n",
    "        #Area in square miles\n",
    "        file.write(f'set_variable = {\"{\"} name = dat_area value = {areas[ids]} {\"}\"} ')\n",
    "        #Square root of the area\n",
    "        file.write(f'set_variable = {\"{\"} name = dat_dist value = {round(diagonals[ids],1)} {\"}\"} ')\n",
    "        #Rain in inches\n",
    "        file.write(f'set_variable = {\"{\"} name = dat_rain value = {round(rainfall[ids],2)} {\"}\"} ')\n",
    "        file.write(f'set_variable = {\"{\"} name = rainlocal value = {round(rainfall[ids],2)} {\"}\"} ')\n",
    "        #Temperature in degrees celsius\n",
    "        file.write(f'set_variable = {\"{\"} name = dat_temp value = {temperature[ids]} {\"}\"} ')\n",
    "        file.write(f'set_variable = {\"{\"} name = templocal value = {temperature[ids]} {\"}\"} ')\n",
    "        #Elevation in feet above sea level\n",
    "        file.write(f'set_variable = {\"{\"} name = dat_elev value = {elevation[ids]} {\"}\"} ')\n",
    "        #Winter harshness\n",
    "        for id1 in climate:\n",
    "            for id2 in climate[id1]:\n",
    "                if id2==ids:\n",
    "                    file.write(f'set_variable = {\"{\"} name = dat_type value = flag:{id1} {\"}\"} ') \n",
    "                    break\n",
    "        file.write('}\\n')\n",
    "    file.write('\\t}\\n\\n}')"
   ]
  },
  {
   "cell_type": "code",
   "execution_count": null,
   "metadata": {},
   "outputs": [],
   "source": [
    "### Write localization. This is not useful unless you want to overwrite manual changes to localization\n",
    "with open('outputs/provincenames_l_english.yml', 'w') as file:\n",
    "    file.write('l_english:\\n')\n",
    "    for ids in names:\n",
    "        file.write(f' PROV{ids}:0 \"{names[ids]}\"\\n')"
   ]
  },
  {
   "cell_type": "code",
   "execution_count": null,
   "metadata": {},
   "outputs": [],
   "source": [
    "print(\"\\n\".join([\"2\",\n",
    " 'Elliot Lake',\n",
    " '23771.687 sq.miles',\n",
    " '154.18069593823995 miles',\n",
    " \"(4407, 1260)\",\n",
    " \"(46.37081550517141, -83.16650390625)\",\n",
    " '30.82677165342 inches of rain',\n",
    " '2.7 degrees celcius',\n",
    " '204 frost days',\n",
    " '541ft above sea level']))"
   ]
  }
 ],
 "metadata": {
  "kernelspec": {
   "display_name": "airbus",
   "language": "python",
   "name": "python3"
  },
  "language_info": {
   "codemirror_mode": {
    "name": "ipython",
    "version": 3
   },
   "file_extension": ".py",
   "mimetype": "text/x-python",
   "name": "python",
   "nbconvert_exporter": "python",
   "pygments_lexer": "ipython3",
   "version": "3.9.13"
  },
  "metadata": {
   "interpreter": {
    "hash": "334db4cc05ce238ca1a7019a643678253efa18870d623550a72f43be86b1c78d"
   }
  },
  "orig_nbformat": 2,
  "vscode": {
   "interpreter": {
    "hash": "10eee2537c94431c7ee08dd6dfc137570298c82f45fe976c93ca8834bee650e9"
   }
  }
 },
 "nbformat": 4,
 "nbformat_minor": 2
}
