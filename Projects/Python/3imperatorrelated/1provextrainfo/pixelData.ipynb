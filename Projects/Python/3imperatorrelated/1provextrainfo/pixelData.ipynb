{
 "cells": [
  {
   "cell_type": "code",
   "execution_count": null,
   "metadata": {},
   "outputs": [],
   "source": [
    "# Computes the biomes and sub-biomes from rainfall, temperature and elevation on a PIXEL level\n",
    "\n",
    "from PIL import Image\n",
    "import cv2\n",
    "import numpy as np\n",
    "import pandas as pd\n",
    "from numba import cuda\n",
    "from geotiff import GeoTiff\n",
    "from tensorflow import keras\n",
    "import matplotlib.pyplot as plt\n",
    "from tqdm.notebook import tqdm\n",
    "from tqdm.keras import TqdmCallback\n",
    "from sklearn.metrics import accuracy_score\n",
    "\n",
    "from inputs import models\n",
    "from common import *"
   ]
  },
  {
   "cell_type": "code",
   "execution_count": null,
   "metadata": {},
   "outputs": [],
   "source": [
    "MAPDIMS = (16384, 8192)\n",
    "MIN_LAT = -60\n",
    "MAX_LAT = 70"
   ]
  },
  {
   "cell_type": "code",
   "execution_count": null,
   "metadata": {},
   "outputs": [],
   "source": [
    "waterMask = cv2.imread(\"outputs/waterMask.png\", cv2.IMREAD_UNCHANGED)\n",
    "Image.fromarray(waterMask).resize((400,200))"
   ]
  },
  {
   "cell_type": "markdown",
   "metadata": {},
   "source": [
    "# Precipitation, temperature, elevation"
   ]
  },
  {
   "cell_type": "markdown",
   "metadata": {},
   "source": [
    "### Average yearly rainfall in mm"
   ]
  },
  {
   "cell_type": "code",
   "execution_count": null,
   "metadata": {},
   "outputs": [],
   "source": [
    "pre = np.array(GeoTiff('inputs/worldClim/pre1.tif').read(), dtype=np.float32)\n",
    "for i in range(2,13):\n",
    "    temp = np.array(GeoTiff(f'inputs/worldClim/pre{i}.tif').read(), dtype=np.float32)\n",
    "    pre += temp\n",
    "pre[pre<0] = np.NaN\n",
    "\n",
    "pre = latitudeCropImage(pre, MIN_LAT, MAX_LAT)\n",
    "pre = cv2.resize(pre, MAPDIMS, interpolation=cv2.INTER_LINEAR)"
   ]
  },
  {
   "cell_type": "code",
   "execution_count": null,
   "metadata": {},
   "outputs": [],
   "source": [
    "maskTarget = np.isnan(pre)\n",
    "maskValid = ~np.isnan(pre)\n",
    "pre = GPUsearchAndFixToNearest(pre, maskTarget, maskValid).astype('float16')\n",
    "print('Min:', np.min(pre), '; Max:', np.max(pre), '; Mean:', np.mean(pre), '[Rainfall per year in mm]')\n",
    "smallNormImage(pre)"
   ]
  },
  {
   "cell_type": "markdown",
   "metadata": {},
   "source": [
    "### Average yearly temperature"
   ]
  },
  {
   "cell_type": "code",
   "execution_count": null,
   "metadata": {},
   "outputs": [],
   "source": [
    "tmp = np.array(GeoTiff('inputs/worldClim/tmp1.tif').read(), dtype=np.float32)\n",
    "for i in range(2,13):\n",
    "    temp = np.array(GeoTiff(f'inputs/worldClim/tmp{i}.tif').read(), dtype=np.float32)\n",
    "    temp[temp<-1000] = -1000\n",
    "    tmp += temp\n",
    "tmp /= 12\n",
    "tmp[tmp<-273] = np.NaN\n",
    "\n",
    "tmp = latitudeCropImage(tmp, MIN_LAT, MAX_LAT)\n",
    "tmp = cv2.resize(tmp, MAPDIMS, interpolation=cv2.INTER_LINEAR)"
   ]
  },
  {
   "cell_type": "code",
   "execution_count": null,
   "metadata": {},
   "outputs": [],
   "source": [
    "maskTarget = np.isnan(tmp)\n",
    "maskValid = ~np.isnan(tmp)\n",
    "tmp = GPUsearchAndFixToNearest(tmp, maskTarget, maskValid).astype('float16')\n",
    "print('Min:', np.min(tmp), '; Max:', np.max(tmp), '; Mean:', np.mean(tmp), '[Average annual temperature in Cº]')\n",
    "smallNormImage(tmp)"
   ]
  },
  {
   "cell_type": "markdown",
   "metadata": {},
   "source": [
    "### Elevation"
   ]
  },
  {
   "cell_type": "code",
   "execution_count": null,
   "metadata": {},
   "outputs": [],
   "source": [
    "elv = np.array(GeoTiff('inputs/worldClim/elv2.tif').read(), dtype=np.float32)\n",
    "elv[elv<-600] = np.NaN\n",
    "\n",
    "elv = latitudeCropImage(elv, MIN_LAT, MAX_LAT)\n",
    "elv = cv2.resize(elv, MAPDIMS, interpolation=cv2.INTER_LINEAR)"
   ]
  },
  {
   "cell_type": "code",
   "execution_count": null,
   "metadata": {},
   "outputs": [],
   "source": [
    "maskTarget = np.isnan(elv)\n",
    "maskValid = ~np.isnan(elv)\n",
    "elv = GPUsearchAndFixToNearest(elv, maskTarget, maskValid).astype('float16')\n",
    "print('Min:', np.min(elv), '; Max:', np.max(elv), '; Mean:', np.mean(elv), '[Height in m]')\n",
    "smallNormImage(elv)"
   ]
  },
  {
   "cell_type": "markdown",
   "metadata": {},
   "source": [
    "### Slope"
   ]
  },
  {
   "cell_type": "code",
   "execution_count": null,
   "metadata": {},
   "outputs": [],
   "source": [
    "elvDiff = np.zeros(shape=(MAPDIMS[1],MAPDIMS[0]))\n",
    "# Differentiating in X and Y (1st order, assuming distance = 1)\n",
    "elvDiff[:,1:] += np.abs(elv[:,1:]-elv[:,0:-1])\n",
    "elvDiff[1:,:] += np.abs(elv[1:,:]-elv[0:-1,:])\n",
    "# Summing nearest cells\n",
    "elvDiff[:,0:-1] += elvDiff[:,1:]\n",
    "elvDiff[0:-1,:] += elvDiff[1:,:]\n",
    "\n",
    "elvDiff[waterMask==255] = 0\n",
    "smallNormImage(elvDiff)"
   ]
  },
  {
   "cell_type": "code",
   "execution_count": null,
   "metadata": {},
   "outputs": [],
   "source": [
    "plt.hist(elvDiff.flatten(), bins=30, alpha=0.7)\n",
    "plt.title('Histogram of slopes')\n",
    "plt.xlabel('Slope magnitude')\n",
    "plt.ylabel('Frequency')\n",
    "plt.grid(True)\n",
    "plt.show()"
   ]
  },
  {
   "cell_type": "code",
   "execution_count": null,
   "metadata": {},
   "outputs": [],
   "source": [
    "landMLinputs = pd.DataFrame(np.argwhere(waterMask == 0), columns=[\"y\",\"x\"])\n",
    "landMLinputs[\"pre\"] = pre[(waterMask == 0)]\n",
    "landMLinputs[\"tmp\"] = tmp[(waterMask == 0)]\n",
    "landMLinputs.head(4)"
   ]
  },
  {
   "cell_type": "markdown",
   "metadata": {},
   "source": [
    "# Biome classification"
   ]
  },
  {
   "cell_type": "code",
   "execution_count": null,
   "metadata": {},
   "outputs": [],
   "source": [
    "biomeKeys = {\n",
    "    'Tundra': (147,167,172),\n",
    "    'Taiga': (91,143,82),\n",
    "    'Cold desert': (146,126,48),\n",
    "    'Shrubland': (179,124,6),\n",
    "    'Temperate forest': (44,137,160),\n",
    "    'Temperate rainforest': (10,84,109),\n",
    "    'Desert': (200,113,55),\n",
    "    'Savanna': (151,165,39),\n",
    "    'Tropical Rainforest': (7,83,48),\n",
    "    'Tropical forest': (0,127,14)\n",
    "}"
   ]
  },
  {
   "cell_type": "code",
   "execution_count": null,
   "metadata": {},
   "outputs": [],
   "source": [
    "nPoints = 600\n",
    "bList = list(biomeKeys.keys())\n",
    "X, Y2, Y = pd.DataFrame(), pd.DataFrame(), pd.DataFrame()\n",
    "whittaker = np.array(Image.open('inputs/whittaker.png').convert('RGB'))\n",
    "for i, biome in enumerate(biomeKeys):\n",
    "    color = biomeKeys[biome]\n",
    "    y, x = np.where((whittaker[:,:,0] == color[0]) & (whittaker[:,:,1] == color[1]) & (whittaker[:,:,2] == color[2]))\n",
    "    index = np.random.choice(a=len(x), size=nPoints)\n",
    "\n",
    "    X = pd.concat([X,pd.DataFrame({'Temperature': x[index]*20/399-10, 'Rain': -y[index]*2000/379+4649.077})], axis=0)\n",
    "    Y2 = pd.concat([Y2,pd.DataFrame({'Biome': [biome]*nPoints})], axis=0)\n",
    "\n",
    "X = X.reset_index(drop=True)\n",
    "Y2 = Y2.reset_index(drop=True)\n",
    "Y = pd.get_dummies(Y2.Biome)\n",
    "Y = Y[bList]\n",
    "pd.concat([X,Y], axis=1).head(3)"
   ]
  },
  {
   "cell_type": "code",
   "execution_count": null,
   "metadata": {},
   "outputs": [],
   "source": [
    "#Cross-validation using the training samples to find the elbow of the curve (to avoid under or overfitting)\n",
    "# params = {\n",
    "#     'activations': ['leakyReLU','leakyReLU','softmax'],\n",
    "#     'epochs': 400,\n",
    "#     'loss': 'categorical_crossentropy',\n",
    "#     'trainTestSplit': 0.05,\n",
    "#     'batchSize': None,\n",
    "#     'callbacks': None\n",
    "# }\n",
    "\n",
    "# ni = 1\n",
    "# nf = 12\n",
    "# yplotTrain = np.zeros(nf-ni+1)\n",
    "# yplotTest = np.zeros(nf-ni+1)\n",
    "# for i in tqdm(range(nf-ni+1)):\n",
    "#     params['nodes'] = [2, i+ni, i+ni, 10]\n",
    "\n",
    "#     model = models.autoencoder.kerasFeedForward(**params)\n",
    "#     model.defineXnorm(minMax=True, minMaxData=X.to_numpy())\n",
    "\n",
    "#     costs = model.fit(X, Y).history\n",
    "#     yplotTrain[i], yplotTest[i] = costs['loss'][-1], costs['val_loss'][-1]\n",
    "\n",
    "# plt.plot(range(ni,nf+1),yplotTrain,label='Training set error')\n",
    "# plt.plot(range(ni,nf+1),yplotTest,label='Validation set error')\n",
    "# plt.xlabel('Nº of neurons in hidden layer')\n",
    "# plt.ylabel('Cost function error')\n",
    "# plt.legend(loc='best')\n",
    "# plt.show()"
   ]
  },
  {
   "cell_type": "code",
   "execution_count": null,
   "metadata": {},
   "outputs": [],
   "source": [
    "params = {\n",
    "    'nodes': [2, 8, 8, 10],\n",
    "    'activations': ['leakyReLU','leakyReLU','softmax'],\n",
    "    'epochs': 12000,\n",
    "    'loss': 'categorical_crossentropy',\n",
    "    'trainTestSplit': 0.05,\n",
    "    'batchSize': None,\n",
    "    'callbacks': [TqdmCallback()]\n",
    "}\n",
    "model = models.autoencoder.kerasFeedForward(**params)\n",
    "model.defineXnorm(minMax=True, minMaxData=X.to_numpy())\n",
    "model.fit(X, Y).history\n",
    "\n",
    "model.plotLoss()\n",
    "print(accuracy_score(Y, np.round(model.predict(X))))"
   ]
  },
  {
   "cell_type": "code",
   "execution_count": null,
   "metadata": {},
   "outputs": [],
   "source": [
    "X = pd.DataFrame()\n",
    "temp = [[],[]]\n",
    "for y in range(whittaker.shape[0]):\n",
    "    for x in range(whittaker.shape[1]):\n",
    "        temp[0].append(x*20/399-10)\n",
    "        temp[1].append(-y*2000/379+4649.077)\n",
    "X['Temperature'] = temp[0]\n",
    "X['Rainfall'] = temp[1]\n",
    "\n",
    "Y = model.predict(X)\n",
    "\n",
    "count = 0\n",
    "for y in range(whittaker.shape[0]):\n",
    "    for x in range(whittaker.shape[1]):\n",
    "        biomeKey = np.argmax(Y[count])\n",
    "\n",
    "        whittaker[y,x,:] = biomeKeys[bList[biomeKey]]\n",
    "        count+=1\n",
    "\n",
    "im = Image.fromarray(whittaker)\n",
    "display(im)"
   ]
  },
  {
   "cell_type": "markdown",
   "metadata": {},
   "source": [
    "### Biomes"
   ]
  },
  {
   "cell_type": "code",
   "execution_count": null,
   "metadata": {},
   "outputs": [],
   "source": [
    "landMLinputs['biome'] = pd.DataFrame(model.predict(landMLinputs[['tmp','pre']].to_numpy())).idxmax(axis=1).astype('uint8')\n",
    "display(landMLinputs.head())\n",
    "\n",
    "biomes = len(biomeKeys)*np.ones(shape=(MAPDIMS[1],MAPDIMS[0]), dtype=np.uint8)\n",
    "biomes[landMLinputs[\"y\"], landMLinputs[\"x\"]] = landMLinputs[\"biome\"]"
   ]
  },
  {
   "cell_type": "code",
   "execution_count": null,
   "metadata": {},
   "outputs": [],
   "source": [
    "biomeKeys = list(biomeKeys.values())\n",
    "biomeKeys.append((1, 1, 154)) #10 ocean\n",
    "\n",
    "biomesRGB = GPUpaintColorKeys(biomes, biomeKeys)\n",
    "\n",
    "Image.fromarray(biomesRGB).save(\"outputs/pixelData/biomeDrawing.png\")\n",
    "smallNormImage(biomesRGB)"
   ]
  },
  {
   "cell_type": "markdown",
   "metadata": {},
   "source": [
    "### Sub-biomes"
   ]
  },
  {
   "cell_type": "code",
   "execution_count": null,
   "metadata": {},
   "outputs": [],
   "source": [
    "subBiomesKeys = biomeKeys.copy()\n",
    "\n",
    "subBiomesKeys.append((0,0,0)) #11 rocky coast\n",
    "subBiomesKeys.append((127,127,127)) #12 coast\n",
    "subBiomesKeys.append((255,255,255)) #13 sandy coast\n",
    "\n",
    "subBiomesKeys.append((219, 247, 255)) #14 tundra mountain\n",
    "subBiomesKeys.append((163, 255, 147)) #15 taiga mountain\n",
    "subBiomesKeys.append((25, 197, 255)) #16 temperate mountain\n",
    "subBiomesKeys.append((255, 217, 84)) #17 dry mountain\n",
    "subBiomesKeys.append((22, 255, 146)) #18 tropical mountain"
   ]
  },
  {
   "cell_type": "code",
   "execution_count": null,
   "metadata": {},
   "outputs": [],
   "source": [
    "# materials = [\n",
    "#     'beach sand',       #0\n",
    "#     'rippled sand',     #1\n",
    "#     'icelandic sand',   #2\n",
    "#     'arid gravel',      #10\n",
    "#     'arid soil',        #20\n",
    "#     'mossy grass',      #30\n",
    "# ]\n",
    "# subMaterials = {\n",
    "#     'Tundra': {2: 1},                   #0\n",
    "#     'Taiga': {2: 1},                    #1\n",
    "#     'Cold desert': {2: 1},              #2\n",
    "#     'Shrubland': {10: 0.4, 30: 0.6},      #3\n",
    "#     'Temperate forest': {2: 1},         #4\n",
    "#     'Temperate rainforest': {2: 1},     #5\n",
    "#     'Desert': {2: 1},                   #6\n",
    "#     'Savanna': {2: 1},                  #7\n",
    "#     'Tropical Rainforest': {2: 1},      #8\n",
    "#     'Tropical forest': {2: 1},          #9\n",
    "#     ### Coasts\n",
    "#     'Black': {2: 1},                    #10\n",
    "#     'Mixed': {0: 0.4, 2: 0.6},          #11\n",
    "#     'White': {0: 0.5, 1: 0.5},          #12\n",
    "#     ### Mountains\n",
    "#     'Bare mountain': {2: 1},            #13\n",
    "#     'Snowed mountain': {2: 1},          #14\n",
    "#     'hilltest': {2: 1},\n",
    "# }\n",
    "\n",
    "# subMaterialsProbs = []\n",
    "# for j,k in tqdm(enumerate(subMaterials)):\n",
    "#     subMaterialsProbs.append([])\n",
    "#     cumulative = 0\n",
    "#     start = 0\n",
    "#     for x in subMaterials[k]:\n",
    "#         cumulative += subMaterials[k][x]\n",
    "#         quantile = np.uint8(np.round(np.quantile(noiseSmall, q=cumulative)))-start\n",
    "#         start += quantile\n",
    "#         subMaterialsProbs[j].extend([x for _ in range(quantile)])\n",
    "# subMaterialsProbs = np.array(subMaterialsProbs)"
   ]
  },
  {
   "cell_type": "code",
   "execution_count": null,
   "metadata": {},
   "outputs": [],
   "source": [
    "def kernelAssignSubBiomes(yLimit: int, xLimit: int):\n",
    "    @cuda.jit\n",
    "    def func(biomes, elvDiff, waterMask):\n",
    "        y, x = cuda.grid(2)\n",
    "        \n",
    "        # Out of bonds\n",
    "        if y >= yLimit or x >= xLimit: return\n",
    "\n",
    "        # Water\n",
    "        if waterMask[y,x] == True: return\n",
    "\n",
    "        cat = biomes[y,x]\n",
    "        # Mountains\n",
    "        if elvDiff[y,x] > 1000:\n",
    "            if cat == 0: biomes[y,x] = 14\n",
    "            elif cat == 1: biomes[y,x] = 15\n",
    "            elif cat == 4 or cat == 5: biomes[y,x] = 16\n",
    "            elif cat in [2,3,6,7]: biomes[y,x] = 17\n",
    "            elif cat == 8 or cat == 9: biomes[y,x] = 18 \n",
    "\n",
    "        # if cat==0 or cat==1 or cat==4: biomes[y,x] = 11\n",
    "        # elif cat==6 or cat==8 or cat==9: biomes[y,x] = 13\n",
    "        # else: biomes[y,x] = 12\n",
    "\n",
    "    return func\n",
    "\n",
    "def GPUassignSubBiomes(biomes: np.ndarray, elvDiff: np.ndarray, waterMask: np.ndarray):\n",
    "    yLimit, xLimit = biomes.shape\n",
    "\n",
    "    gpuBiomes = cuda.to_device(biomes)\n",
    "    gpuElvDiff = cuda.to_device(elvDiff)\n",
    "    gpuWaterMask = cuda.to_device(np.bool8(waterMask))\n",
    "\n",
    "    threadsperblock = (16,16)\n",
    "    blockspergrid = tuple(int(np.ceil(biomes.shape[i]/threadsperblock[i])) for i in range(2))\n",
    "\n",
    "    kernelAssignSubBiomes(yLimit, xLimit)[blockspergrid, threadsperblock](gpuBiomes, gpuElvDiff, gpuWaterMask)\n",
    "    subBiomes = gpuBiomes.copy_to_host()\n",
    "\n",
    "    return subBiomes\n",
    "subBiomes = GPUassignSubBiomes(biomes, elvDiff, waterMask)"
   ]
  },
  {
   "cell_type": "code",
   "execution_count": null,
   "metadata": {},
   "outputs": [],
   "source": [
    "subBiomesRGB = GPUpaintColorKeys(subBiomes, subBiomesKeys)\n",
    "\n",
    "Image.fromarray(subBiomesRGB).save(\"outputs/pixelData/subBiomeDrawing.png\")\n",
    "smallNormImage(subBiomesRGB)"
   ]
  }
 ],
 "metadata": {
  "kernelspec": {
   "display_name": "airbus",
   "language": "python",
   "name": "python3"
  },
  "language_info": {
   "codemirror_mode": {
    "name": "ipython",
    "version": 3
   },
   "file_extension": ".py",
   "mimetype": "text/x-python",
   "name": "python",
   "nbconvert_exporter": "python",
   "pygments_lexer": "ipython3",
   "version": "3.9.13"
  }
 },
 "nbformat": 4,
 "nbformat_minor": 2
}
