{
 "cells": [
  {
   "cell_type": "code",
   "execution_count": null,
   "metadata": {},
   "outputs": [],
   "source": [
    "import matplotlib.pyplot as plt\n",
    "import numpy as np\n",
    "import pandas as pd\n",
    "from PIL import Image\n",
    "Image.MAX_IMAGE_PIXELS = None\n",
    "from tqdm.notebook import tqdm\n",
    "import unidecode\n",
    "import netCDF4 as nc"
   ]
  },
  {
   "cell_type": "markdown",
   "metadata": {},
   "source": [
    "# Loading"
   ]
  },
  {
   "cell_type": "code",
   "execution_count": null,
   "metadata": {},
   "outputs": [],
   "source": [
    "locators = {}\n",
    "with open('input/combat_locators.txt', 'r') as file:\n",
    "    contents = file.read().splitlines()\n",
    "    for line in range(8, len(contents)-4, 6):\n",
    "        ids = int(contents[line].split(\"=\")[1])\n",
    "        \n",
    "        temp = contents[line+1].split(\" \")[1:-1]\n",
    "        locators[ids] = (int(float(temp[0])/2), int(3072-(float(temp[2])/2)))"
   ]
  },
  {
   "cell_type": "code",
   "execution_count": null,
   "metadata": {},
   "outputs": [],
   "source": [
    "img = Image.open('input/ti_mask.png').convert('L')\n",
    "display(imgProvs)"
   ]
  },
  {
   "cell_type": "code",
   "execution_count": null,
   "metadata": {},
   "outputs": [],
   "source": [
    "impassable = [0, 1]+list(range(5642,5693))\n",
    "provs = {}\n",
    "for ids in locators:\n",
    "    if ids in impassable: continue\n",
    "    provs[ids] = img.getpixel(locators[ids])"
   ]
  },
  {
   "cell_type": "code",
   "execution_count": null,
   "metadata": {},
   "outputs": [],
   "source": [
    "# Province parameters\n",
    "with open('output/tiSetup.txt','w') as file:\n",
    "    file.write('namespace = tiSetup\\n\\ntiSetup.1 = {\\n\\ttype = country_event\\n\\n\\thidden = yes\\n\\n\\timmediate = {\\n')\n",
    "    for ids in provs:\n",
    "        file.write(f'\\t\\tp:{ids} = {\"{\"} ')\n",
    "        #XY\n",
    "        file.write(f'set_variable = {\"{\"} name = ti_region value = {provs[ids]} {\"}\"} ')\n",
    "        file.write('}\\n')\n",
    "    file.write('\\t}\\n\\n}')"
   ]
  }
 ],
 "metadata": {
  "kernelspec": {
   "display_name": "Python 3.10.3 64-bit",
   "language": "python",
   "name": "python3"
  },
  "language_info": {
   "codemirror_mode": {
    "name": "ipython",
    "version": 3
   },
   "file_extension": ".py",
   "mimetype": "text/x-python",
   "name": "python",
   "nbconvert_exporter": "python",
   "pygments_lexer": "ipython3",
   "version": "3.10.3"
  },
  "metadata": {
   "interpreter": {
    "hash": "334db4cc05ce238ca1a7019a643678253efa18870d623550a72f43be86b1c78d"
   }
  },
  "orig_nbformat": 2,
  "vscode": {
   "interpreter": {
    "hash": "9b22d928f5973cd7159b3034ea5d87b106ec4962028224788a5749e890f75777"
   }
  }
 },
 "nbformat": 4,
 "nbformat_minor": 2
}
