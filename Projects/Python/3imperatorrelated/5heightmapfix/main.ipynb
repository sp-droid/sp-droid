{
 "cells": [
  {
   "cell_type": "code",
   "execution_count": 11,
   "metadata": {},
   "outputs": [],
   "source": [
    "import matplotlib.pyplot as plt\n",
    "import numpy as np\n",
    "import pandas as pd\n",
    "from pandas import read_excel\n",
    "from mymachinelearning import ANN\n",
    "from PIL import Image\n",
    "from tqdm.notebook import tqdm\n",
    "Image.MAX_IMAGE_PIXELS = None"
   ]
  },
  {
   "cell_type": "code",
   "execution_count": 7,
   "metadata": {},
   "outputs": [
    {
     "name": "stdout",
     "output_type": "stream",
     "text": [
      "   Unnamed: 1  Unnamed: 2  Unnamed: 3\n",
      "0           0           0           0\n",
      "1           0           0           0\n",
      "2         171         128           0\n",
      "3           0         128           0\n",
      "4         115           0           0\n"
     ]
    }
   ],
   "source": [
    "file_location = 'input files/definition.xlsx'\n",
    "df = read_excel(file_location, usecols='B,C,D')\n",
    "print(df.head())\n",
    "definitions = []\n",
    "for i in range(len(df)):\n",
    "    definitions.append(tuple([df['Unnamed: 1'][i],df['Unnamed: 2'][i],df['Unnamed: 3'][i]]))"
   ]
  },
  {
   "cell_type": "code",
   "execution_count": 8,
   "metadata": {
    "tags": []
   },
   "outputs": [
    {
     "name": "stdout",
     "output_type": "stream",
     "text": [
      "0\n",
      "500\n",
      "1000\n",
      "1500\n",
      "2000\n",
      "2500\n",
      "3000\n",
      "3500\n",
      "4000\n",
      "4500\n",
      "5000\n",
      "5500\n",
      "6000\n"
     ]
    }
   ],
   "source": [
    "def newheight(h): #This is a formula to transform the heights into a proper scale that looks well into the game, obtained comparing the vanilla heightmap to ours\n",
    "    a, b, c = -0.00262337, 1.628272, 12.5411\n",
    "    newh = int(a*h**2 + b*h + c)\n",
    "    if newh < 41: newh = 41\n",
    "    elif newh > 255: newh = 255\n",
    "    return newh\n",
    "\n",
    "#Yellow is sea, ignore pure black and make sure the rest is above sea level 40,40,40\n",
    "ignore = (0,0,0)\n",
    "seas = (255,255,0)\n",
    "minvalue = 41\n",
    "mapwidth = 16384\n",
    "mapheight = 6144\n",
    "\n",
    "provimg = Image.open('yellowseas.png')\n",
    "heightmap = Image.open(r'input files/heightmap.png')\n",
    "\n",
    "for y in range(mapheight):\n",
    "    if y % 500 == 0: print(y)\n",
    "    for x in range(mapwidth):\n",
    "        pos = (x,y)\n",
    "        pixelcolor = provimg.getpixel(pos)\n",
    "\n",
    "        if 3 == sum([1 for a, b in zip(ignore, pixelcolor) if a == b]): #Pure black, to ignore\n",
    "            continue\n",
    "        elif 3 == sum([1 for a, b in zip(seas, pixelcolor) if a == b]): #Sea, we paint the heightmap pixel with sea level\n",
    "            heightmap.putpixel(pos, 0)\n",
    "            continue\n",
    "        else: #Land, paint it with minimum land level in case its under the water\n",
    "            height = heightmap.getpixel(pos)\n",
    "            height = newheight(height)\n",
    "            heightmap.putpixel(pos, height)\n",
    "\n",
    "heightmap.save('output files\\heightmap.png')\n",
    "provimg.close()\n",
    "heightmap.close()"
   ]
  },
  {
   "cell_type": "code",
   "execution_count": null,
   "metadata": {},
   "outputs": [],
   "source": [
    "newimage = Image.new('L',(20,20))\n",
    "for i in range(20):\n",
    "    newimage.putpixel((i,i), 77)\n",
    "display(newimage)\n",
    "newimage.save('test.png')"
   ]
  },
  {
   "cell_type": "code",
   "execution_count": 12,
   "metadata": {},
   "outputs": [
    {
     "data": {
      "application/vnd.jupyter.widget-view+json": {
       "model_id": "8f902c99d02142aebc73ac78ef109e5a",
       "version_major": 2,
       "version_minor": 0
      },
      "text/plain": [
       "  0%|          | 0/6144 [00:00<?, ?it/s]"
      ]
     },
     "metadata": {},
     "output_type": "display_data"
    }
   ],
   "source": [
    "def newheight(h): #This is a formula to transform the heights into a proper scale that looks well into the game, obtained comparing the vanilla heightmap to ours\n",
    "    if h<37: newh = h\n",
    "    else:\n",
    "        newh = int(round(37*np.exp(0.008854*(h-37))))\n",
    "    return newh\n",
    "\n",
    "mapwidth = 16384\n",
    "mapheight = 6144\n",
    "\n",
    "heightmap = Image.open(r'input files/heightmap.png')\n",
    "\n",
    "for y in tqdm(range(mapheight)):\n",
    "    for x in range(mapwidth):\n",
    "        height = heightmap.getpixel((x,y))\n",
    "        height = newheight(height)\n",
    "        heightmap.putpixel((x,y), height)\n",
    "\n",
    "heightmap.save('output files\\heightmap.png')\n",
    "heightmap.close()"
   ]
  }
 ],
 "metadata": {
  "kernelspec": {
   "display_name": "Python 3.10.3 64-bit",
   "language": "python",
   "name": "python3"
  },
  "language_info": {
   "codemirror_mode": {
    "name": "ipython",
    "version": 3
   },
   "file_extension": ".py",
   "mimetype": "text/x-python",
   "name": "python",
   "nbconvert_exporter": "python",
   "pygments_lexer": "ipython3",
   "version": "3.10.3"
  },
  "metadata": {
   "interpreter": {
    "hash": "334db4cc05ce238ca1a7019a643678253efa18870d623550a72f43be86b1c78d"
   }
  },
  "orig_nbformat": 2,
  "vscode": {
   "interpreter": {
    "hash": "9b22d928f5973cd7159b3034ea5d87b106ec4962028224788a5749e890f75777"
   }
  }
 },
 "nbformat": 4,
 "nbformat_minor": 2
}
