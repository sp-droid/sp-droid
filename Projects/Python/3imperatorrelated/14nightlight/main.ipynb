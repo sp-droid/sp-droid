{
 "cells": [
  {
   "cell_type": "code",
   "execution_count": 1,
   "metadata": {},
   "outputs": [],
   "source": [
    "import numpy as np\n",
    "from PIL import Image\n",
    "Image.MAX_IMAGE_PIXELS = None\n",
    "from tqdm.notebook import tqdm\n",
    "from joblib import Parallel, delayed"
   ]
  },
  {
   "cell_type": "code",
   "execution_count": 2,
   "metadata": {},
   "outputs": [],
   "source": [
    "locs = []\n",
    "\n",
    "# file = open(\"input/city_locators.txt\",\"r\")\n",
    "# contents = file.read().splitlines()\n",
    "# file.close()\n",
    "# for line in range(8, len(contents)-4, 6):\n",
    "#     ids = int(contents[line].split(\"=\")[1])\n",
    "#     temp = contents[line+1].split(\" \")[1:-1]\n",
    "#     locs.append([float(temp[0])/2, (6144-float(temp[2]))/2])\n",
    "\n",
    "file = open(\"input/port_locators.txt\",\"r\")\n",
    "contents = file.read().splitlines()\n",
    "file.close()\n",
    "for line in range(8, len(contents)-4, 6):\n",
    "    ids = int(contents[line].split(\"=\")[1])\n",
    "    temp = contents[line+1].split(\" \")[1:-1]\n",
    "    locs.append([float(temp[0])/2, (6144-float(temp[2]))/2])\n",
    "\n",
    "image = np.array(Image.open(r\"input/example.png\",\"r\").convert('L'))"
   ]
  },
  {
   "cell_type": "code",
   "execution_count": 3,
   "metadata": {},
   "outputs": [],
   "source": [
    "maxpixelx = 8192\n",
    "maxpixely = 3072\n",
    "\n",
    "ncells = 256\n",
    "mapped = [[[] for _ in range(ncells)] for _ in range(ncells)]\n",
    "for elem in locs:\n",
    "    xindex = int(round(elem[0]/maxpixelx*(ncells-1)))\n",
    "    yindex = int(round(elem[1]/maxpixely*(ncells-1)))\n",
    "    mapped[xindex][yindex].append(elem)\n"
   ]
  },
  {
   "cell_type": "code",
   "execution_count": 4,
   "metadata": {},
   "outputs": [],
   "source": [
    "def inner_loop(y0, mapped):\n",
    "    maxpixelx = 8192\n",
    "    maxpixely = 3072\n",
    "    minval = 5\n",
    "    temp = []\n",
    "    for x0 in range(maxpixelx):\n",
    "        xindex = int(round(x0/maxpixelx*(ncells-1)))\n",
    "        yindex = int(round(y0/maxpixely*(ncells-1)))\n",
    "\n",
    "        search = []\n",
    "        search.extend(mapped[xindex][yindex])\n",
    "\n",
    "        xlims = [max(0,xindex-1),min(ncells-1,xindex+1)]\n",
    "        ylims = [max(0,yindex-1),min(ncells-1,yindex+1)]\n",
    "        search.extend(mapped[xlims[0]][yindex])\n",
    "        search.extend(mapped[xlims[1]][yindex])\n",
    "        search.extend(mapped[xindex][ylims[0]])\n",
    "        search.extend(mapped[xindex][ylims[1]])\n",
    "\n",
    "        search.extend(mapped[xlims[0]][ylims[0]])\n",
    "        search.extend(mapped[xlims[1]][ylims[0]])\n",
    "        search.extend(mapped[xlims[0]][ylims[1]])\n",
    "        search.extend(mapped[xlims[1]][ylims[1]])\n",
    "\n",
    "        if len(search)==0:\n",
    "            temp.append(0)\n",
    "            continue\n",
    "\n",
    "        dist = np.sqrt(min([(elem[0]-x0)**2+(elem[1]-y0)**2 for elem in search]))\n",
    "        dist = int((1-min(minval,dist)/minval)*255)\n",
    "        temp.append(dist)\n",
    "    return temp"
   ]
  },
  {
   "cell_type": "code",
   "execution_count": 5,
   "metadata": {},
   "outputs": [
    {
     "data": {
      "application/vnd.jupyter.widget-view+json": {
       "model_id": "4abde69064374bd1acb00879d5cf26c6",
       "version_major": 2,
       "version_minor": 0
      },
      "text/plain": [
       "  0%|          | 0/3072 [00:00<?, ?it/s]"
      ]
     },
     "metadata": {},
     "output_type": "display_data"
    }
   ],
   "source": [
    "result = Parallel(n_jobs=-2)(delayed(inner_loop)(y0, mapped) for y0 in tqdm(range(maxpixely)))\n",
    "\n",
    "for y0, temp in enumerate(result):\n",
    "    for x0, value in enumerate(temp):\n",
    "        image[y0,x0] = value\n",
    "\n",
    "Image.fromarray(image).save('output/nightLight.png')"
   ]
  }
 ],
 "metadata": {
  "kernelspec": {
   "display_name": "Python 3.10.3 64-bit",
   "language": "python",
   "name": "python3"
  },
  "language_info": {
   "codemirror_mode": {
    "name": "ipython",
    "version": 3
   },
   "file_extension": ".py",
   "mimetype": "text/x-python",
   "name": "python",
   "nbconvert_exporter": "python",
   "pygments_lexer": "ipython3",
   "version": "3.10.3"
  },
  "metadata": {
   "interpreter": {
    "hash": "334db4cc05ce238ca1a7019a643678253efa18870d623550a72f43be86b1c78d"
   }
  },
  "orig_nbformat": 2,
  "vscode": {
   "interpreter": {
    "hash": "9b22d928f5973cd7159b3034ea5d87b106ec4962028224788a5749e890f75777"
   }
  }
 },
 "nbformat": 4,
 "nbformat_minor": 2
}
