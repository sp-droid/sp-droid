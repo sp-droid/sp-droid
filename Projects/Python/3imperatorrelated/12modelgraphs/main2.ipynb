{
 "cells": [
  {
   "cell_type": "markdown",
   "metadata": {},
   "source": [
    "## Global temperature model"
   ]
  },
  {
   "cell_type": "code",
   "execution_count": 8,
   "metadata": {},
   "outputs": [
    {
     "data": {
      "text/plain": [
       "<Figure size 576x432 with 0 Axes>"
      ]
     },
     "metadata": {},
     "output_type": "display_data"
    },
    {
     "data": {
      "text/plain": [
       "<Figure size 576x432 with 0 Axes>"
      ]
     },
     "metadata": {},
     "output_type": "display_data"
    },
    {
     "data": {
      "text/plain": [
       "<Figure size 576x432 with 0 Axes>"
      ]
     },
     "metadata": {},
     "output_type": "display_data"
    },
    {
     "data": {
      "text/plain": [
       "<Figure size 576x432 with 0 Axes>"
      ]
     },
     "metadata": {},
     "output_type": "display_data"
    },
    {
     "data": {
      "text/plain": [
       "<Figure size 576x432 with 0 Axes>"
      ]
     },
     "metadata": {},
     "output_type": "display_data"
    }
   ],
   "source": [
    "import numpy as np\n",
    "import matplotlib.pyplot as plt\n",
    "\n",
    "for j in range(5):\n",
    "    years = list(range(1204,1901))\n",
    "    def tempFunction(prevValue, year):\n",
    "        factor = 0.005\n",
    "        if year < 1650:\n",
    "            return prevValue-0.0009+np.random.uniform(-factor,factor)\n",
    "        else:\n",
    "            return prevValue+0.0012+np.random.uniform(-factor,factor)\n",
    "\n",
    "    temps = [0]\n",
    "    for i,year in enumerate(years[1:]):\n",
    "        temps.append(tempFunction(temps[i-1], year))\n",
    "\n",
    "    fig = plt.figure(figsize=(8, 6))\n",
    "    plt.plot(years,temps,linewidth=0.5)\n",
    "    plt.ylim([-0.3,0.05])\n",
    "    plt.savefig(f'output/{j}.png', dpi=100, facecolor='white')\n",
    "    plt.delaxes()"
   ]
  },
  {
   "cell_type": "markdown",
   "metadata": {},
   "source": [
    "## Global rainfall model"
   ]
  },
  {
   "cell_type": "code",
   "execution_count": 13,
   "metadata": {},
   "outputs": [
    {
     "data": {
      "text/plain": [
       "<Figure size 576x432 with 0 Axes>"
      ]
     },
     "metadata": {},
     "output_type": "display_data"
    },
    {
     "data": {
      "text/plain": [
       "<Figure size 576x432 with 0 Axes>"
      ]
     },
     "metadata": {},
     "output_type": "display_data"
    },
    {
     "data": {
      "text/plain": [
       "<Figure size 576x432 with 0 Axes>"
      ]
     },
     "metadata": {},
     "output_type": "display_data"
    },
    {
     "data": {
      "text/plain": [
       "<Figure size 576x432 with 0 Axes>"
      ]
     },
     "metadata": {},
     "output_type": "display_data"
    },
    {
     "data": {
      "text/plain": [
       "<Figure size 576x432 with 0 Axes>"
      ]
     },
     "metadata": {},
     "output_type": "display_data"
    }
   ],
   "source": [
    "import numpy as np\n",
    "import matplotlib.pyplot as plt\n",
    "\n",
    "for j in range(5):\n",
    "    years = list(range(1204,1901))\n",
    "    def tempFunction():\n",
    "        factor = 0.3\n",
    "        return np.random.uniform(1-factor,1+factor)\n",
    "\n",
    "    rain = [1]\n",
    "    for i,year in enumerate(years[1:]):\n",
    "        rain.append(tempFunction())\n",
    "\n",
    "    fig = plt.figure(figsize=(8, 6))\n",
    "    plt.plot(years,rain,linewidth=1)\n",
    "    plt.ylim([0.6,1.4])\n",
    "    plt.savefig(f'output/{j}.png', dpi=100, facecolor='white')\n",
    "    plt.delaxes()"
   ]
  }
 ],
 "metadata": {
  "kernelspec": {
   "display_name": "Python 3.10.3 64-bit",
   "language": "python",
   "name": "python3"
  },
  "language_info": {
   "codemirror_mode": {
    "name": "ipython",
    "version": 3
   },
   "file_extension": ".py",
   "mimetype": "text/x-python",
   "name": "python",
   "nbconvert_exporter": "python",
   "pygments_lexer": "ipython3",
   "version": "3.10.3"
  },
  "orig_nbformat": 4,
  "vscode": {
   "interpreter": {
    "hash": "9b22d928f5973cd7159b3034ea5d87b106ec4962028224788a5749e890f75777"
   }
  }
 },
 "nbformat": 4,
 "nbformat_minor": 2
}
