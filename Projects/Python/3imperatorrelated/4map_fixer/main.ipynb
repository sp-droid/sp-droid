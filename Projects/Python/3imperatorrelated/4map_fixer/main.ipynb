{
 "cells": [
  {
   "cell_type": "code",
   "execution_count": 1,
   "metadata": {},
   "outputs": [],
   "source": [
    "import matplotlib.pyplot as plt\n",
    "import numpy as np\n",
    "from pandas import read_excel\n",
    "from mymachinelearning import ANN\n",
    "from PIL import Image\n",
    "Image.MAX_IMAGE_PIXELS = None\n",
    "from tqdm.notebook import tqdm\n",
    "from joblib import Parallel, delayed"
   ]
  },
  {
   "cell_type": "code",
   "execution_count": 2,
   "metadata": {},
   "outputs": [],
   "source": [
    "trueSea = np.array(Image.open(r\"input files/heightReal.png\",\"r\").convert('L'))\n",
    "#unfixedSea = np.array(Image.open(r\"input files/provincesSea.png\",\"r\").convert('L'))\n",
    "#unfixedSea = np.array(Image.open(r\"input files/heightSea.png\",\"r\").convert('L'))\n",
    "unfixedSea = np.array(Image.open(r\"input files/flatSea.png\",\"r\").convert('L'))\n",
    "#provinceMap = Image.open(r\"input files/provinces.png\",\"r\").convert('RGB')\n",
    "#heightMap = Image.open(r\"input files/heightmap.png\",\"r\")\n",
    "flatMap = Image.open(r\"input files/flatmap.png\",\"r\").convert('RGB')"
   ]
  },
  {
   "cell_type": "code",
   "execution_count": 3,
   "metadata": {},
   "outputs": [],
   "source": [
    "maxpixelx = 16384\n",
    "maxpixely = 6144\n",
    "\n",
    "def inner_loop(y0, pmap):\n",
    "    temp = []\n",
    "    for x0 in range(maxpixelx):\n",
    "        #pbar.set_postfix_str(f'x0: {x0}')\n",
    "        truebool = trueSea[y0,x0]\n",
    "        if truebool==unfixedSea[y0,x0]:\n",
    "            temp.append(pmap.getpixel((x0,y0)))\n",
    "            continue\n",
    "\n",
    "        #Floodfill through provinceSea until the color is equal to heightbool, save x,y and recolor the province map\n",
    "        swarm = [(x0,y0)]\n",
    "        visited = np.zeros((maxpixely,maxpixelx))\n",
    "        while len(swarm)!=0:\n",
    "            x, y = swarm[0]\n",
    "\n",
    "            xt, yt = x, max(y - 1,0)\n",
    "            if unfixedSea[yt,xt]==truebool: break\n",
    "            if visited[yt,xt]==0: \n",
    "                visited[yt,xt] = 1\n",
    "                swarm.append((xt,yt))\n",
    "\n",
    "            xt, yt = max(x - 1,0), y\n",
    "            if unfixedSea[yt,xt]==truebool: break\n",
    "            if visited[yt,xt]==0: \n",
    "                visited[yt,xt] = 1\n",
    "                swarm.append((xt,yt))\n",
    "            \n",
    "            xt, yt = x, min(y + 1,maxpixely-1)\n",
    "            if unfixedSea[yt,xt]==truebool: break\n",
    "            if visited[yt,xt]==0: \n",
    "                visited[yt,xt] = 1\n",
    "                swarm.append((xt,yt))\n",
    "\n",
    "            xt, yt = min(x + 1,maxpixelx-1), y\n",
    "            if unfixedSea[yt,xt]==truebool: break\n",
    "            if visited[yt,xt]==0: \n",
    "                visited[yt,xt] = 1\n",
    "                swarm.append((xt,yt))\n",
    "\n",
    "            swarm.pop(0)\n",
    "        temp.append(pmap.getpixel((xt,yt)))\n",
    "    return temp"
   ]
  },
  {
   "cell_type": "code",
   "execution_count": 4,
   "metadata": {},
   "outputs": [
    {
     "data": {
      "application/vnd.jupyter.widget-view+json": {
       "model_id": "8ff6669d441a48cd82799fb6bc4edbbe",
       "version_major": 2,
       "version_minor": 0
      },
      "text/plain": [
       "  0%|          | 0/6144 [00:00<?, ?it/s]"
      ]
     },
     "metadata": {},
     "output_type": "display_data"
    }
   ],
   "source": [
    "result = Parallel(n_jobs=-2)(delayed(inner_loop)(y0, flatMap) for y0 in tqdm(range(maxpixely)))\n",
    "\n",
    "for y0, temp in enumerate(result):\n",
    "    for x0, value in enumerate(temp):\n",
    "        flatMap.putpixel((x0,y0),value)\n",
    "\n",
    "#provinceMap.save('output files/provinces.png')\n",
    "#heightMap.save('output files/heightmap.png')\n",
    "flatMap.save('output files/flatmap.png')"
   ]
  },
  {
   "cell_type": "markdown",
   "metadata": {},
   "source": [
    "# test"
   ]
  },
  {
   "cell_type": "code",
   "execution_count": 28,
   "metadata": {},
   "outputs": [],
   "source": [
    "heightMap = np.array(Image.open(r\"input files/heightmap.png\",\"r\").convert('L'))\n",
    "trueSea = np.array(Image.open(r\"input files/heightReal.png\",\"r\").convert('L'))"
   ]
  },
  {
   "cell_type": "code",
   "execution_count": 29,
   "metadata": {},
   "outputs": [
    {
     "data": {
      "application/vnd.jupyter.widget-view+json": {
       "model_id": "6eb1a3a9884549de8094c8ea9a702792",
       "version_major": 2,
       "version_minor": 0
      },
      "text/plain": [
       "  0%|          | 0/6144 [00:00<?, ?it/s]"
      ]
     },
     "metadata": {},
     "output_type": "display_data"
    }
   ],
   "source": [
    "maxpixelx = heightMap.shape[1]\n",
    "maxpixely = heightMap.shape[0]\n",
    "#superiorVal = 24\n",
    "#setVal = 18\n",
    "coast = 33\n",
    "seacoast = 30\n",
    "\n",
    "def inner_loop(y0, heightMap, maxpixelx, maxpixely, superiorVal, setVal):\n",
    "    temp = []\n",
    "    for x0 in range(maxpixelx):\n",
    "        color = heightMap[y0,x0]\n",
    "        landsea = trueSea[y0,x0]\n",
    "\n",
    "        if landsea==0: #Has to be sea\n",
    "            if color>seacoast:\n",
    "                temp.append(seacoast)\n",
    "            else: temp.append(color)\n",
    "        else: #Has to be land\n",
    "            if color<coast:\n",
    "                temp.append(coast)\n",
    "            else: temp.append(color)\n",
    "\n",
    "        # conditional = True\n",
    "        # for i in range(1):\n",
    "        #     xt, yt = x0, max(y0 - 1,0)\n",
    "        #     if heightMap[yt,xt]==superiorVal: break\n",
    "\n",
    "        #     xt, yt = max(x0 - 1,0), y0\n",
    "        #     if heightMap[yt,xt]==superiorVal: break\n",
    "\n",
    "        #     xt, yt = x0, min(y0 + 1,maxpixely-1)\n",
    "        #     if heightMap[yt,xt]==superiorVal: break\n",
    "\n",
    "        #     xt, yt = min(x0 + 1,maxpixelx-1), y0\n",
    "        #     if heightMap[yt,xt]==superiorVal: break\n",
    "\n",
    "        #     xt, yt = max(x0 - 1,0), max(y0 - 1,0)\n",
    "        #     if heightMap[yt,xt]==superiorVal: break\n",
    "\n",
    "        #     xt, yt = max(x0 - 1,0), min(y0 + 1,maxpixely-1)\n",
    "        #     if heightMap[yt,xt]==superiorVal: break\n",
    "\n",
    "        #     xt, yt = min(x0 + 1,maxpixelx-1), min(y0 + 1,maxpixely-1)\n",
    "        #     if heightMap[yt,xt]==superiorVal: break\n",
    "\n",
    "        #     xt, yt = min(x0 + 1,maxpixelx-1), max(y0 - 1,0)\n",
    "        #     if heightMap[yt,xt]==superiorVal: break\n",
    "\n",
    "        #     conditional = False\n",
    "\n",
    "        # if conditional==False:\n",
    "        #     temp.append(color)\n",
    "        # else: \n",
    "        #     temp.append(setVal)\n",
    "    return temp\n",
    "\n",
    "result = Parallel(n_jobs=-2)(delayed(inner_loop)(y0, heightMap, maxpixelx, maxpixely, superiorVal, setVal) for y0 in tqdm(range(maxpixely)))\n",
    "\n",
    "for y0, temp in enumerate(result):\n",
    "    for x0, value in enumerate(temp):\n",
    "        heightMap[y0,x0] = value"
   ]
  },
  {
   "cell_type": "code",
   "execution_count": 30,
   "metadata": {},
   "outputs": [],
   "source": [
    "temp = Image.fromarray(heightMap)\n",
    "temp.save('output files/heightmap.png')"
   ]
  },
  {
   "cell_type": "code",
   "execution_count": null,
   "metadata": {},
   "outputs": [],
   "source": [
    "# riverprovinces = list(range(15077,16005+1))\n",
    "# bprov = (50,50,50)\n",
    "\n",
    "# Image.MAX_IMAGE_PIXELS = None\n",
    "# provimg = Image.open(r'temp.png')\n",
    "# provimg.convert('RGB')\n",
    "\n",
    "# data = np.array(provimg)   # \"data\" is a height x width x 4 numpy array\n",
    "# r, g, b = data.T # Temporarily unpack the bands for readability\n",
    "\n",
    "# interest_areas = (r == bprov[0]) & (g == bprov[1]) & (b == bprov[2])\n",
    "\n",
    "# for ids in riverprovinces:\n",
    "#     print(ids)\n",
    "#     color = prov[ids]\n",
    "#     interest_areas = (r == color[0]) & (g == color[1]) & (b == color[2]) | interest_areas\n",
    "\n",
    "# data[..., :][interest_areas.T] = bprov # Transpose back needed\n",
    "\n",
    "# provimg = Image.fromarray(data)\n",
    "# provimg.save('tempwithoutrivers.png')"
   ]
  }
 ],
 "metadata": {
  "kernelspec": {
   "display_name": "Python 3.10.3 64-bit",
   "language": "python",
   "name": "python3"
  },
  "language_info": {
   "codemirror_mode": {
    "name": "ipython",
    "version": 3
   },
   "file_extension": ".py",
   "mimetype": "text/x-python",
   "name": "python",
   "nbconvert_exporter": "python",
   "pygments_lexer": "ipython3",
   "version": "3.10.3"
  },
  "metadata": {
   "interpreter": {
    "hash": "334db4cc05ce238ca1a7019a643678253efa18870d623550a72f43be86b1c78d"
   }
  },
  "orig_nbformat": 2,
  "vscode": {
   "interpreter": {
    "hash": "9b22d928f5973cd7159b3034ea5d87b106ec4962028224788a5749e890f75777"
   }
  }
 },
 "nbformat": 4,
 "nbformat_minor": 2
}
