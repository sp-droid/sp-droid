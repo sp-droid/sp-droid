{
 "cells": [
  {
   "cell_type": "code",
   "execution_count": null,
   "metadata": {},
   "outputs": [],
   "source": [
    "import numpy as np\n",
    "import matplotlib.pyplot as plt\n",
    "import myML"
   ]
  },
  {
   "cell_type": "code",
   "execution_count": null,
   "metadata": {},
   "outputs": [],
   "source": [
    "def Test_1D(X):\n",
    "    y = (X*6-2)**2*np.sin(X*12-4)\n",
    "    return y\n",
    "\n",
    "def Test_2D(X):\n",
    "    y = (1-X[0,:])**2 + 100*(X[1,:]-X[0,:]**2)**2\n",
    "    return y\n"
   ]
  },
  {
   "cell_type": "code",
   "execution_count": null,
   "metadata": {},
   "outputs": [],
   "source": [
    "# Training data\n",
    "X_train = np.array([0.0, 0.1, 0.2, 0.4, 0.5, 0.6, 0.8, 1], ndmin=2)\n",
    "y_train = Test_1D(X_train)\n",
    "\n",
    "# Testing data\n",
    "X_test = np.linspace(0.0, 1, 100).reshape(1,-1)\n",
    "y_test = Test_1D(X_test)\n",
    "\n",
    "model = myML.GaussianProcess(kernel='gaussian')\n",
    "model.fit(X_train, y_train)"
   ]
  },
  {
   "cell_type": "code",
   "execution_count": null,
   "metadata": {},
   "outputs": [],
   "source": [
    "y_pred, yvar_pred = model.predict(X_test)\n",
    "X_test[0,np.argmax(yvar_pred)]"
   ]
  },
  {
   "cell_type": "code",
   "execution_count": null,
   "metadata": {},
   "outputs": [],
   "source": [
    "print('Root Mean Squared Error:')\n",
    "print(model.score(X_test, y_test))\n",
    "\n",
    "fig = plt.figure(figsize=(12,8))\n",
    "ax = plt.axes()\n",
    "\n",
    "#Original function\n",
    "ax.plot(X_test[0,:],y_test[0,:], linewidth=3, linestyle='--', color='red', label='Test function')\n",
    "ax.scatter(X_train[0,:],y_train[0,:], linewidth=6, color='red', label='Training points')\n",
    "#Prediction + confidence intervals\n",
    "ax.plot(X_test[0,:],y_pred[0,:], linewidth=2, color='blue', label='Gaussian process prediction')\n",
    "ax.fill_between(X_test[0,:],y_pred[0,:]-1.96*yvar_pred[0,:],y_pred[0,:]+1.96*yvar_pred[0,:], color='blue', alpha=0.1, label='95% CI')\n",
    "\n",
    "#ax.set_xlim([-0.1, 1.1])\n",
    "#ax.set_ylim([-7, 17])\n",
    "ax.legend(loc='best', prop={'size': 14})\n",
    "plt.show()"
   ]
  },
  {
   "cell_type": "code",
   "execution_count": null,
   "metadata": {},
   "outputs": [],
   "source": [
    "size = 100\n",
    "a, b = np.meshgrid(np.linspace(-2,2,size),np.linspace(-1,3,size))\n",
    "\n",
    "Z = np.zeros_like(a)\n",
    "for i in range(size):\n",
    "    for j in range(size):\n",
    "        temp = np.array([a[i,j], b[i,j]]).reshape(-1,1) \n",
    "        Z[i,j] = Test_2D(temp)\n",
    "\n",
    "X_test = np.array([a.flatten(), b.flatten()])\n",
    "xnorm = myML.norm0to1(X_test)\n",
    "y_test = Test_2D(X_test).reshape(1,-1)\n",
    "ynorm = myML.norm0to1(y_test)\n",
    "\n",
    "X_train = xnorm.recover(myML.staticSampling('LHSoptim', 2, 25))\n",
    "y_train = Test_2D(X_train).reshape(1,-1)"
   ]
  },
  {
   "cell_type": "code",
   "execution_count": null,
   "metadata": {},
   "outputs": [],
   "source": [
    "fig = plt.figure(figsize=(10,10))\n",
    "ax = plt.axes()\n",
    "\n",
    "ax.contourf(a, b, Z, 20, cmap='Blues')\n",
    "img = ax.contourf(a, b, Z, 10, cmap='Blues')\n",
    "plt.colorbar(img)\n",
    "\n",
    "plt.show()"
   ]
  },
  {
   "cell_type": "code",
   "execution_count": null,
   "metadata": {},
   "outputs": [],
   "source": [
    "model = myML.GaussianProcess(kernel='gaussian')\n",
    "model.fit(xnorm.normalize(X_train), ynorm.normalize(y_train))"
   ]
  },
  {
   "cell_type": "code",
   "execution_count": null,
   "metadata": {},
   "outputs": [],
   "source": [
    "Z = np.zeros_like(a)\n",
    "for i in range(size):\n",
    "    for j in range(size):\n",
    "        temp = np.array([a[i,j], b[i,j]]).reshape(-1,1)\n",
    "        temp, _ = model.predict(xnorm.normalize(temp))\n",
    "        Z[i,j] = ynorm.recover(temp)\n",
    "\n",
    "fig = plt.figure(figsize=(10,10))\n",
    "ax = plt.axes()\n",
    "\n",
    "\n",
    "ax.contourf(a, b, Z, 20, cmap='Blues')\n",
    "img = ax.contourf(a, b, Z, 10, cmap='Blues')\n",
    "plt.colorbar(img)\n",
    "ax.scatter(X_train[0,:],X_train[1,:], linewidth=4, color='red')\n",
    "plt.show()"
   ]
  }
 ],
 "metadata": {
  "kernelspec": {
   "display_name": "Python 3.9.2 64-bit",
   "name": "python392jvsc74a57bd0334db4cc05ce238ca1a7019a643678253efa18870d623550a72f43be86b1c78d"
  },
  "language_info": {
   "codemirror_mode": {
    "name": "ipython",
    "version": 3
   },
   "file_extension": ".py",
   "mimetype": "text/x-python",
   "name": "python",
   "nbconvert_exporter": "python",
   "pygments_lexer": "ipython3",
   "version": "3.9.2"
  },
  "metadata": {
   "interpreter": {
    "hash": "334db4cc05ce238ca1a7019a643678253efa18870d623550a72f43be86b1c78d"
   }
  },
  "orig_nbformat": 2
 },
 "nbformat": 4,
 "nbformat_minor": 2
}
