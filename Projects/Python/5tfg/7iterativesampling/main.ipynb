{
 "cells": [
  {
   "cell_type": "code",
   "execution_count": null,
   "metadata": {},
   "outputs": [],
   "source": [
    "import numpy as np\n",
    "import matplotlib.pyplot as plt\n",
    "import myML"
   ]
  },
  {
   "cell_type": "code",
   "execution_count": null,
   "metadata": {},
   "outputs": [],
   "source": [
    "def Test_1D(X):\n",
    "    y = (X*6-2)**2*np.sin(X*12-4)\n",
    "    return y\n",
    "\n",
    "# Initial training\n",
    "X_train = np.array([0.0, 0.5, 1], ndmin=2)\n",
    "y_train = Test_1D(X_train)\n",
    "\n",
    "# Testing data\n",
    "X_test = np.linspace(0.0, 1, 200).reshape(1,-1)\n",
    "y_test = Test_1D(X_test)\n",
    "\n",
    "model = myML.GaussianProcess(kernel='gaussian')"
   ]
  },
  {
   "cell_type": "code",
   "execution_count": null,
   "metadata": {},
   "outputs": [],
   "source": [
    "RMSE = []\n",
    "\n",
    "fig = plt.figure(figsize=(16,6))\n",
    "ax = plt.axes()\n",
    "\n",
    "for n_points in range(1,30):\n",
    "    ax.clear()\n",
    "    ax.set_ylim(-10,17)\n",
    "\n",
    "    model.fit(X_train, y_train, iters=500)\n",
    "    y_pred, yvar_pred = model.predict(X_test)\n",
    "    RMSE.append(model.score(X_test, y_test))\n",
    "\n",
    "    #Original function\n",
    "    ax.plot(X_test[0,:],y_test[0,:], linewidth=3, linestyle='--', color='red', label='Test function')\n",
    "    ax.scatter(X_train[0,:],y_train[0,:], linewidth=6, color='red', label='Training points')\n",
    "    #Prediction + confidence intervals\n",
    "    ax.plot(X_test[0,:],y_pred[0,:], linewidth=2, color='blue', label='Gaussian process prediction')\n",
    "    ax.fill_between(X_test[0,:],y_pred[0,:]-1.96*yvar_pred[0,:],y_pred[0,:]+1.96*yvar_pred[0,:], color='blue', alpha=0.1, label='95% CI')\n",
    "\n",
    "    ax.legend(loc='upper left', prop={'size': 14})\n",
    "    plt.savefig('imgs/img{:05d}'.format(n_points), dpi=100)\n",
    "\n",
    "    newvalue = np.array([[X_test[0,np.argmax(yvar_pred[0,:])]]])\n",
    "    X_train = np.append(X_train, newvalue, axis=1)\n",
    "    y_train = np.append(y_train, Test_1D(newvalue), axis=1)"
   ]
  },
  {
   "cell_type": "code",
   "execution_count": null,
   "metadata": {},
   "outputs": [],
   "source": [
    "fig = plt.figure(figsize=(12,6))\n",
    "plt.plot(list(range(3,32)),RMSE)\n",
    "plt.xlabel('Number of points')\n",
    "plt.title('Root mean squared error')\n",
    "plt.savefig('imgs/RMSE')"
   ]
  }
 ],
 "metadata": {
  "kernelspec": {
   "display_name": "Python 3.9.2 64-bit",
   "name": "python392jvsc74a57bd0334db4cc05ce238ca1a7019a643678253efa18870d623550a72f43be86b1c78d"
  },
  "language_info": {
   "codemirror_mode": {
    "name": "ipython",
    "version": 3
   },
   "file_extension": ".py",
   "mimetype": "text/x-python",
   "name": "python",
   "nbconvert_exporter": "python",
   "pygments_lexer": "ipython3",
   "version": "3.9.2"
  },
  "metadata": {
   "interpreter": {
    "hash": "334db4cc05ce238ca1a7019a643678253efa18870d623550a72f43be86b1c78d"
   }
  },
  "orig_nbformat": 2
 },
 "nbformat": 4,
 "nbformat_minor": 2
}
