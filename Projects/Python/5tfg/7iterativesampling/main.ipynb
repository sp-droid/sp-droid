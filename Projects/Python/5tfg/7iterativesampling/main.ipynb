{
 "cells": [
  {
   "cell_type": "code",
   "execution_count": null,
   "metadata": {},
   "outputs": [],
   "source": [
    "import numpy as np\r\n",
    "import matplotlib.pyplot as plt\r\n",
    "import myML"
   ]
  },
  {
   "cell_type": "code",
   "execution_count": null,
   "metadata": {},
   "outputs": [],
   "source": [
    "def Test_1D(X):\r\n",
    "    y = (X*6-2)**2*np.sin(X*12-4)\r\n",
    "    return y\r\n",
    "\r\n",
    "# Initial training\r\n",
    "X_train = np.array([0.0, 0.5, 1], ndmin=2)\r\n",
    "y_train = Test_1D(X_train)\r\n",
    "\r\n",
    "# Testing data\r\n",
    "X_test = np.linspace(0.0, 1, 200).reshape(1,-1)\r\n",
    "y_test = Test_1D(X_test)\r\n",
    "\r\n",
    "model = myML.GaussianProcess(kernel='gaussian')"
   ]
  },
  {
   "cell_type": "code",
   "execution_count": null,
   "metadata": {},
   "outputs": [],
   "source": [
    "RMSE = []\r\n",
    "\r\n",
    "fig = plt.figure(figsize=(16,6))\r\n",
    "ax = plt.axes()\r\n",
    "\r\n",
    "for n_points in range(1,30):\r\n",
    "    ax.clear()\r\n",
    "    ax.set_ylim(-10,17)\r\n",
    "\r\n",
    "    model.fit(X_train, y_train, iters=500)\r\n",
    "    y_pred, yvar_pred = model.predict(X_test)\r\n",
    "    RMSE.append(model.score(X_test, y_test))\r\n",
    "\r\n",
    "    #Original function\r\n",
    "    ax.plot(X_test[0,:],y_test[0,:], linewidth=3, linestyle='--', color='red', label='Test function')\r\n",
    "    ax.scatter(X_train[0,:],y_train[0,:], linewidth=6, color='red', label='Training points')\r\n",
    "    #Prediction + confidence intervals\r\n",
    "    ax.plot(X_test[0,:],y_pred[0,:], linewidth=2, color='blue', label='Gaussian process prediction')\r\n",
    "    ax.fill_between(X_test[0,:],y_pred[0,:]-1.96*yvar_pred[0,:],y_pred[0,:]+1.96*yvar_pred[0,:], color='blue', alpha=0.1, label='95% CI')\r\n",
    "\r\n",
    "    ax.legend(loc='upper left', prop={'size': 14})\r\n",
    "    plt.savefig('imgs/img{:05d}'.format(n_points), dpi=100)\r\n",
    "\r\n",
    "    newvalue = np.array([[X_test[0,np.argmax(yvar_pred[0,:])]]])\r\n",
    "    X_train = np.append(X_train, newvalue, axis=1)\r\n",
    "    y_train = np.append(y_train, Test_1D(newvalue), axis=1)"
   ]
  },
  {
   "cell_type": "code",
   "execution_count": 9,
   "metadata": {},
   "outputs": [
    {
     "data": {
      "image/png": "[encoded data removed]",
      "text/plain": "<Figure size 864x432 with 1 Axes>"
     },
     "metadata": {
      "needs_background": "light"
     },
     "output_type": "display_data"
    }
   ],
   "source": [
    "fig = plt.figure(figsize=(12,6))\r\n",
    "plt.plot(list(range(3,32)),RMSE)\r\n",
    "plt.xlabel('Number of points')\r\n",
    "plt.title('Root mean squared error')\r\n",
    "plt.savefig('imgs/RMSE')"
   ]
  }
 ],
 "metadata": {
  "kernelspec": {
   "display_name": "Python 3.9.2 64-bit",
   "name": "python392jvsc74a57bd0334db4cc05ce238ca1a7019a643678253efa18870d623550a72f43be86b1c78d"
  },
  "language_info": {
   "codemirror_mode": {
    "name": "ipython",
    "version": 3
   },
   "file_extension": ".py",
   "mimetype": "text/x-python",
   "name": "python",
   "nbconvert_exporter": "python",
   "pygments_lexer": "ipython3",
   "version": "3.9.2"
  },
  "metadata": {
   "interpreter": {
    "hash": "334db4cc05ce238ca1a7019a643678253efa18870d623550a72f43be86b1c78d"
   }
  },
  "orig_nbformat": 2
 },
 "nbformat": 4,
 "nbformat_minor": 2
}