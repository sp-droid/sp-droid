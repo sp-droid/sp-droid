{
 "cells": [
  {
   "cell_type": "code",
   "execution_count": null,
   "metadata": {},
   "outputs": [],
   "source": [
    "import numpy as np\n",
    "import matplotlib.pyplot as plt\n",
    "from matplotlib import cm\n",
    "import myML"
   ]
  },
  {
   "cell_type": "code",
   "execution_count": null,
   "metadata": {},
   "outputs": [],
   "source": [
    "def func(xx):\n",
    "    d = xx.shape[0]\n",
    "    f = (10*d)*np.ones((1,xx.shape[1]))\n",
    "    for i in range(d):\n",
    "        f += xx[i,:]**2-10*np.cos(2*np.pi*xx[i,:])\n",
    "    return f"
   ]
  },
  {
   "cell_type": "code",
   "execution_count": null,
   "metadata": {},
   "outputs": [],
   "source": [
    "fig = plt.figure(figsize=(16,16))\n",
    "ax = plt.axes(projection='3d')\n",
    "points = 100\n",
    "x = np.linspace(-5.12, 5.12, points)\n",
    "x, y = np.meshgrid(x,x)\n",
    "z = np.zeros((points,points))\n",
    "for i in range(points):\n",
    "    for j in range(points):\n",
    "        vector = np.array([[x[i,j]],[y[i,j]]])\n",
    "        z[i,j] = func(vector)[0,0]\n",
    "\n",
    "ax.plot_surface(x,y,z, rstride=1, cstride=1, facecolors=cm.jet(z/z.max()), linewidth=0.1, antialiased=False, shade=False)\n",
    "ax.contourf(x, y, z, zdir='z', offset=-1, cmap=cm.jet)\n",
    "ax.dist=12\n",
    "ax.view_init(30, 30)\n",
    "ax.set_xlabel('X')\n",
    "ax.set_ylabel('Y')\n",
    "ax.set_zlabel('Z')\n",
    "plt.show()\n",
    "#print(x)\n",
    "#y = func(x)"
   ]
  },
  {
   "cell_type": "code",
   "execution_count": null,
   "metadata": {},
   "outputs": [],
   "source": [
    "fig = plt.figure(figsize=(16,16))\n",
    "ax = plt.axes()\n",
    "points = 100\n",
    "x = np.linspace(-5.12, 5.12, points)\n",
    "x, y = np.meshgrid(x,x)\n",
    "z = np.zeros((points,points))\n",
    "for i in range(points):\n",
    "    for j in range(points):\n",
    "        vector = np.array([[x[i,j]],[y[i,j]]])\n",
    "        z[i,j] = func(vector)[0,0]\n",
    "ax.contourf(x, y, z, cmap=cm.coolwarm)\n",
    "\n",
    "f = myML.negative(func)\n",
    "x = myML.SA([5.12, 5.12], [-5.12, -5.12], f.neg, 1000)\n",
    "print('Simulated annealing: '+str(x[:,0]))\n",
    "ax.scatter(x[0,0],x[1,0],marker='x')\n",
    "\n",
    "x = myML.PSO([5.12, 5.12], [-5.12, -5.12], f.neg, 1000)\n",
    "print('Particle Swarm Optimization: '+str(x[:,0]))\n",
    "ax.scatter(x[0,0],x[1,0],marker='x')\n",
    "\n",
    "x = myML.GA([5.12, 5.12], [-5.12, -5.12], f.neg, 300, 100, 2)\n",
    "print('Genetic Algorithm:\\n'+str(x[:,0]))\n",
    "ax.scatter(x[0,0],x[1,0],marker='x')\n",
    "\n",
    "plt.show()"
   ]
  },
  {
   "cell_type": "code",
   "execution_count": null,
   "metadata": {},
   "outputs": [],
   "source": []
  }
 ],
 "metadata": {
  "kernelspec": {
   "display_name": "Python 3.8.5 32-bit",
   "metadata": {
    "interpreter": {
     "hash": "b126237f7ca490168c753438f1a9290c28cbd925e59b6904365c99f1dc93c750"
    }
   },
   "name": "python3"
  },
  "language_info": {
   "codemirror_mode": {
    "name": "ipython",
    "version": 3
   },
   "file_extension": ".py",
   "mimetype": "text/x-python",
   "name": "python",
   "nbconvert_exporter": "python",
   "pygments_lexer": "ipython3",
   "version": "3.8.5-final"
  },
  "orig_nbformat": 2
 },
 "nbformat": 4,
 "nbformat_minor": 2
}
