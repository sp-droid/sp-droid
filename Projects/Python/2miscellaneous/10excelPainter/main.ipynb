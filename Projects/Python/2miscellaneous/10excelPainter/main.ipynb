{
 "cells": [
  {
   "cell_type": "code",
   "execution_count": 66,
   "metadata": {},
   "outputs": [],
   "source": [
    "import numpy as np\n",
    "from PIL import Image\n",
    "\n",
    "import pydirectinput as pyd\n",
    "import pyautogui as pya\n",
    "import time\n",
    "\n",
    "pyd.PAUSE = 0.000\n",
    "pya.PAUSE = 0.000\n",
    "pyd.FAILSAFE = True\n",
    "pya.FAILSAFE = True\n",
    "interval = 0.01"
   ]
  },
  {
   "cell_type": "code",
   "execution_count": 107,
   "metadata": {},
   "outputs": [
    {
     "data": {
      "text/plain": [
       "(52, 37, 3)"
      ]
     },
     "execution_count": 107,
     "metadata": {},
     "output_type": "execute_result"
    }
   ],
   "source": [
    "desiredHcells = 37\n",
    "\n",
    "data = Image.open(r'input/image.png')\n",
    "\n",
    "oldres = data.size\n",
    "\n",
    "newres = [0,0]\n",
    "newres[1] = round(oldres[1]/oldres[0]*desiredHcells)\n",
    "newres[0] = desiredHcells\n",
    "newres = tuple(newres)\n",
    "\n",
    "data = data.resize(newres, Image.Resampling.LANCZOS)\n",
    "data.save('test.png')\n",
    "\n",
    "data = np.array(data)\n",
    "data.shape"
   ]
  },
  {
   "cell_type": "code",
   "execution_count": 108,
   "metadata": {},
   "outputs": [],
   "source": [
    "def paintColor(data, y, x, interval):\n",
    "    # Open fill color menu\n",
    "    pyd.click(*(629, 214))\n",
    "    time.sleep(interval*20)\n",
    "    # Other color\n",
    "    pyd.click(*(716, 660))\n",
    "    time.sleep(interval*20)\n",
    "    # R \n",
    "    pyd.click(*(1235, 930))\n",
    "    time.sleep(interval)\n",
    "    pyd.typewrite(['backspace', 'backspace', 'backspace'], interval=interval)\n",
    "    for elem in str(data[y,x,0]): \n",
    "        pyd.typewrite(elem)\n",
    "        time.sleep(interval)\n",
    "    # G \n",
    "    pyd.click(*(1320, 930))\n",
    "    time.sleep(interval)\n",
    "    pyd.typewrite(['backspace', 'backspace', 'backspace'], interval=interval)\n",
    "    for elem in str(data[y,x,1]): \n",
    "        pyd.typewrite(elem)\n",
    "        time.sleep(interval)\n",
    "    # B\n",
    "    pyd.click(*(1403, 930))\n",
    "    time.sleep(interval)\n",
    "    pyd.typewrite(['backspace', 'backspace', 'backspace'], interval=interval)\n",
    "    for elem in str(data[y,x,2]): \n",
    "        pyd.typewrite(elem)\n",
    "        time.sleep(interval)\n",
    "    # End\n",
    "    pya.click(*(1257, 985))\n",
    "    time.sleep(interval*80)"
   ]
  },
  {
   "cell_type": "code",
   "execution_count": null,
   "metadata": {},
   "outputs": [],
   "source": [
    "time.sleep(8)\n",
    "pos = pyd.position()\n",
    "for y in range(newres[1]):\n",
    "    for x in range(newres[0]):\n",
    "        # Click on cell\n",
    "        pyd.click(*(round(pos[0]+64*x), round(pos[1]+20*y)))\n",
    "        time.sleep(interval*25)\n",
    "        paintColor(data, y, x, interval)"
   ]
  },
  {
   "cell_type": "code",
   "execution_count": null,
   "metadata": {},
   "outputs": [],
   "source": [
    "time.sleep(8)\n",
    "pos = pyd.position()\n",
    "for y in range(newres[1]):\n",
    "    for x in range(newres[0]):\n",
    "        pyd.moveTo(*(round(pos[0]+64*x), round(pos[1]+20*y)))\n",
    "        color = pya.pixel(*(round(pos[0]+64*x), round(pos[1]+20*y)))\n",
    "        time.sleep(interval*25)\n",
    "\n",
    "        if (color[0] != data[y,x,0]) or (color[1] != data[y,x,1]) or (color[2] != data[y,x,2]):\n",
    "            pyd.click(*(round(pos[0]+64*x), round(pos[1]+20*y)))\n",
    "            time.sleep(interval*25)\n",
    "            paintColor(data, y, x, interval*2)"
   ]
  }
 ],
 "metadata": {
  "kernelspec": {
   "display_name": "Python 3",
   "language": "python",
   "name": "python3"
  },
  "language_info": {
   "codemirror_mode": {
    "name": "ipython",
    "version": 3
   },
   "file_extension": ".py",
   "mimetype": "text/x-python",
   "name": "python",
   "nbconvert_exporter": "python",
   "pygments_lexer": "ipython3",
   "version": "3.10.3"
  },
  "orig_nbformat": 4
 },
 "nbformat": 4,
 "nbformat_minor": 2
}
