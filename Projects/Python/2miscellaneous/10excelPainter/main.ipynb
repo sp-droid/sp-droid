{
 "cells": [
  {
   "cell_type": "code",
   "execution_count": null,
   "metadata": {},
   "outputs": [],
   "source": [
    "import numpy as np\n",
    "from PIL import Image\n",
    "\n",
    "import pydirectinput as pyd\n",
    "import pyautogui as pya\n",
    "import time\n",
    "\n",
    "pyd.PAUSE = 0.000\n",
    "pya.PAUSE = 0.000\n",
    "pyd.FAILSAFE = True\n",
    "pya.FAILSAFE = True\n",
    "interval = 0.01"
   ]
  },
  {
   "cell_type": "code",
   "execution_count": null,
   "metadata": {},
   "outputs": [],
   "source": [
    "desiredHcells = 10\n",
    "\n",
    "data = Image.open(r'input/image.png')\n",
    "\n",
    "oldres = data.size\n",
    "\n",
    "newres = [0,0]\n",
    "newres[1] = round(oldres[1]/oldres[0]*desiredHcells)\n",
    "newres[0] = desiredHcells\n",
    "newres = tuple(newres)\n",
    "\n",
    "data = data.resize(newres, Image.Resampling.LANCZOS)\n",
    "data.save('test.png')\n",
    "\n",
    "data = np.array(data)\n",
    "data.shape"
   ]
  },
  {
   "cell_type": "code",
   "execution_count": null,
   "metadata": {},
   "outputs": [],
   "source": [
    "time.sleep(3)\n",
    "print(pyd.position())\n",
    "import sys"
   ]
  },
  {
   "cell_type": "code",
   "execution_count": null,
   "metadata": {},
   "outputs": [],
   "source": [
    "def paintColor(data, y, x, interval):\n",
    "    # Open fill color menu\n",
    "    pyd.click(*(778, 196))\n",
    "    time.sleep(interval*2)\n",
    "    # Other color\n",
    "    pyd.click(*(800, 466))\n",
    "    time.sleep(interval*2)\n",
    "    # R \n",
    "    pyd.doubleClick(*(1240, 841))\n",
    "    time.sleep(interval)\n",
    "    for elem in str(data[y,x,0]): \n",
    "        pyd.typewrite(elem)\n",
    "        time.sleep(interval)\n",
    "    # G \n",
    "    pyd.press('tab')\n",
    "    time.sleep(interval)\n",
    "    for elem in str(data[y,x,1]): \n",
    "        pyd.typewrite(elem)\n",
    "        time.sleep(interval)\n",
    "    # B\n",
    "    pyd.press('tab')\n",
    "    time.sleep(interval)\n",
    "    for elem in str(data[y,x,2]): \n",
    "        pyd.typewrite(elem)\n",
    "        time.sleep(interval)\n",
    "    # End\n",
    "    pya.click(*(1372, 893))\n",
    "    time.sleep(interval*10)"
   ]
  },
  {
   "cell_type": "code",
   "execution_count": null,
   "metadata": {},
   "outputs": [],
   "source": [
    "import sys\n",
    "def checkColor(safetyColor):\n",
    "    color = pya.pixel(*(0, 0))\n",
    "    if (color[0] != safetyColor[0]) or (color[1] != safetyColor[1]) or (color[2] != safetyColor[2]): sys.exit()"
   ]
  },
  {
   "cell_type": "code",
   "execution_count": null,
   "metadata": {},
   "outputs": [],
   "source": [
    "time.sleep(6)\n",
    "safetyColor = pya.pixel(*(0, 0))\n",
    "pos = pyd.position()\n",
    "for y in range(newres[1]):\n",
    "    for x in range(newres[0]):\n",
    "        checkColor(safetyColor)\n",
    "        # Click on cell\n",
    "        pyd.click(*(round(pos[0]+90*x), round(pos[1]+19*y)))\n",
    "        time.sleep(interval*5)\n",
    "        paintColor(data, y, x, interval)"
   ]
  },
  {
   "cell_type": "code",
   "execution_count": null,
   "metadata": {},
   "outputs": [],
   "source": [
    "time.sleep(2)\n",
    "for y in range(newres[1]):\n",
    "    for x in range(newres[0]):\n",
    "        checkColor(safetyColor)\n",
    "        pyd.moveTo(*(round(pos[0]+90*x), round(pos[1]+19*y)))\n",
    "        color = pya.pixel(*(round(pos[0]+90*x), round(pos[1]+19*y)))\n",
    "        time.sleep(interval*5)\n",
    "\n",
    "        if (color[0] != data[y,x,0]) or (color[1] != data[y,x,1]) or (color[2] != data[y,x,2]):\n",
    "            pyd.click(*(round(pos[0]+90*x), round(pos[1]+19*y)))\n",
    "            time.sleep(interval*5)\n",
    "            paintColor(data, y, x, interval*2)"
   ]
  }
 ],
 "metadata": {
  "kernelspec": {
   "display_name": "Python 3",
   "language": "python",
   "name": "python3"
  },
  "language_info": {
   "codemirror_mode": {
    "name": "ipython",
    "version": 3
   },
   "file_extension": ".py",
   "mimetype": "text/x-python",
   "name": "python",
   "nbconvert_exporter": "python",
   "pygments_lexer": "ipython3",
   "version": "3.10.3"
  },
  "orig_nbformat": 4
 },
 "nbformat": 4,
 "nbformat_minor": 2
}
