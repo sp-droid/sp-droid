{
 "cells": [
  {
   "cell_type": "code",
   "execution_count": 1,
   "metadata": {},
   "outputs": [],
   "source": [
    "import pydirectinput as pyd\n",
    "import pyautogui as pya\n",
    "import pyperclip\n",
    "import time\n",
    "\n",
    "pyd.PAUSE = 0.000\n",
    "pya.PAUSE = 0.000\n",
    "interval = 0.02"
   ]
  },
  {
   "cell_type": "code",
   "execution_count": 25,
   "metadata": {},
   "outputs": [],
   "source": [
    "time.sleep(1)\n",
    "\n",
    "# Open browser\n",
    "pyd.rightClick(513, 1053)\n",
    "time.sleep(1)\n",
    "pyd.click(482, 945)\n",
    "time.sleep(2)\n",
    "\n",
    "# Enter logging address\n",
    "pyd.click(222, 65)\n",
    "pyperclip.copy('1.1.1.1')\n",
    "time.sleep(0.1)\n",
    "pya.hotkey('ctrl', 'v')\n",
    "time.sleep(0.1)\n",
    "pya.hotkey('enter')\n",
    "time.sleep(3)\n",
    "\n",
    "# Enter credentials\n",
    "pyd.click(836, 367)\n",
    "time.sleep(0.1)\n",
    "pyperclip.copy('6n611cdp')\n",
    "time.sleep(0.1)\n",
    "pya.hotkey('ctrl', 'v')\n",
    "time.sleep(0.1)\n",
    "pyd.click(845, 449)\n",
    "time.sleep(0.1)\n",
    "pyperclip.copy('33vm5uq2')\n",
    "time.sleep(0.1)\n",
    "pya.hotkey('ctrl', 'v')\n",
    "time.sleep(0.1)\n",
    "pyd.click(798, 909)\n",
    "time.sleep(0.15)\n",
    "pyd.click(949, 965)\n",
    "time.sleep(0.1)\n"
   ]
  }
 ],
 "metadata": {
  "kernelspec": {
   "display_name": "Python 3",
   "language": "python",
   "name": "python3"
  },
  "language_info": {
   "codemirror_mode": {
    "name": "ipython",
    "version": 3
   },
   "file_extension": ".py",
   "mimetype": "text/x-python",
   "name": "python",
   "nbconvert_exporter": "python",
   "pygments_lexer": "ipython3",
   "version": "3.9.5"
  },
  "orig_nbformat": 4
 },
 "nbformat": 4,
 "nbformat_minor": 2
}
