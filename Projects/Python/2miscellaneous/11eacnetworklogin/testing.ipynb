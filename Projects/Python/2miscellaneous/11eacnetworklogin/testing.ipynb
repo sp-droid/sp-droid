{
 "cells": [
  {
   "cell_type": "code",
   "execution_count": 10,
   "metadata": {},
   "outputs": [],
   "source": [
    "import json\n",
    "import time\n",
    "from pathlib import Path\n",
    "\n",
    "import pyperclip\n",
    "import pyautogui as pya\n",
    "import pydirectinput as pyd\n",
    "\n",
    "pyd.PAUSE = 0.000\n",
    "pya.PAUSE = 0.000\n",
    "interval = 0.02"
   ]
  },
  {
   "cell_type": "code",
   "execution_count": 20,
   "metadata": {},
   "outputs": [
    {
     "name": "stdout",
     "output_type": "stream",
     "text": [
      "(56, 87, 154)\n",
      "a\n"
     ]
    }
   ],
   "source": [
    "time.sleep(3)\n",
    "print(pya.pixel(155,185))\n",
    "_, _, b = pya.pixel(155, 185)\n",
    "if b > 110: print('a')"
   ]
  },
  {
   "cell_type": "code",
   "execution_count": 21,
   "metadata": {},
   "outputs": [
    {
     "name": "stdout",
     "output_type": "stream",
     "text": [
      "(One time only) please input your account id and password to access ESA Public\n",
      "If you want to change them, edit the new accountDetails.json file or delete it and restart\n"
     ]
    }
   ],
   "source": [
    "if Path('accountDetails.json').exists():\n",
    "    with open('accountDetails.json', mode='r') as file:\n",
    "        details = json.load(file)\n",
    "else:\n",
    "    print('(One time only) please input your account id and password to access ESA Public')\n",
    "    details = {}\n",
    "    details['id'] = input('Account id:\\t')\n",
    "    details['password'] = input('Account password:\\t')\n",
    "\n",
    "    if details['id'] == '' or details['password'] == '': raise ValueError(\"Fields can't be empty\")\n",
    "\n",
    "    with open('accountDetails.json', mode='w') as file:\n",
    "        json.dump(details, file, indent=2)\n",
    "    print('If you want to change them, edit the new accountDetails.json file or delete it and restart')"
   ]
  },
  {
   "cell_type": "code",
   "execution_count": 25,
   "metadata": {},
   "outputs": [],
   "source": [
    "time.sleep(1)\n",
    "\n",
    "# Open browser\n",
    "pyd.rightClick(513, 1053)\n",
    "time.sleep(1)\n",
    "pyd.click(482, 945)\n",
    "time.sleep(2)\n",
    "\n",
    "# Enter logging address\n",
    "pyd.click(222, 65)\n",
    "pyperclip.copy('1.1.1.1')\n",
    "time.sleep(0.1)\n",
    "pya.hotkey('ctrl', 'v')\n",
    "time.sleep(0.1)\n",
    "pya.hotkey('enter')\n",
    "time.sleep(3)\n",
    "\n",
    "# Enter credentials\n",
    "pyd.click(836, 367)\n",
    "time.sleep(0.1)\n",
    "pyperclip.copy(details['id'])\n",
    "time.sleep(0.1)\n",
    "pya.hotkey('ctrl', 'v')\n",
    "time.sleep(0.1)\n",
    "pyd.click(845, 449)\n",
    "time.sleep(0.1)\n",
    "pyperclip.copy(details['password'])\n",
    "time.sleep(0.1)\n",
    "pya.hotkey('ctrl', 'v')\n",
    "time.sleep(0.1)\n",
    "pyd.click(798, 909)\n",
    "time.sleep(0.15)\n",
    "pyd.click(949, 965)\n",
    "time.sleep(0.1)\n"
   ]
  }
 ],
 "metadata": {
  "kernelspec": {
   "display_name": "Python 3",
   "language": "python",
   "name": "python3"
  },
  "language_info": {
   "codemirror_mode": {
    "name": "ipython",
    "version": 3
   },
   "file_extension": ".py",
   "mimetype": "text/x-python",
   "name": "python",
   "nbconvert_exporter": "python",
   "pygments_lexer": "ipython3",
   "version": "3.9.5"
  },
  "orig_nbformat": 4
 },
 "nbformat": 4,
 "nbformat_minor": 2
}
