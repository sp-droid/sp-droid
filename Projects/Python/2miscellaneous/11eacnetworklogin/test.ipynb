{
 "cells": [
  {
   "cell_type": "code",
   "execution_count": 1,
   "metadata": {},
   "outputs": [],
   "source": [
    "import json\n",
    "from time import sleep\n",
    "from pathlib import Path\n",
    "\n",
    "from selenium import webdriver\n",
    "from selenium.webdriver.common.by import By\n",
    "from selenium.webdriver.common.action_chains import ActionChains\n",
    "from selenium.webdriver.chrome.service import Service as ChromeService\n",
    "from webdriver_manager.chrome import ChromeDriverManager"
   ]
  },
  {
   "cell_type": "code",
   "execution_count": 2,
   "metadata": {},
   "outputs": [
    {
     "name": "stderr",
     "output_type": "stream",
     "text": [
      "There was an error managing chrome (error sending request for url (https://googlechromelabs.github.io/chrome-for-testing/known-good-versions-with-downloads.json): error trying to connect: tls handshake eof); using driver found in the cache\n"
     ]
    }
   ],
   "source": [
    "jsonPath = 'accountDetails.json'\n",
    "\n",
    "# One time detail input\n",
    "if Path(jsonPath).exists():\n",
    "    with open(jsonPath, mode='r') as file:\n",
    "        details = json.load(file)\n",
    "\n",
    "    driver = webdriver.Chrome(service=ChromeService())\n",
    "else:\n",
    "    print('(One time only) please input your account id and password to access ESA Public')\n",
    "    details = {}\n",
    "    details['id'] = input('Account id:\\n')\n",
    "    details['password'] = input('Account password:\\n')\n",
    "\n",
    "    if details['id'] == '' or details['password'] == '': raise ValueError(\"Fields can't be empty\")\n",
    "\n",
    "    with open(jsonPath, mode='w') as file:\n",
    "        json.dump(details, file, indent=2)\n",
    "        print(f'File saved to: {jsonPath}')\n",
    "    print('If you want to change them, edit the new accountDetails.json file or delete it and restart')\n",
    "\n",
    "    driver = webdriver.Chrome(service=ChromeService(ChromeDriverManager().install()))\n",
    "\n",
    "driver.get(url='http://www.msftconnecttest.com/redirect')\n",
    "\n",
    "XPATHusername = '/html/body/div[1]/div[2]/div/div[1]/div/div[1]/form[1]/fieldset/div/div[1]/input'\n",
    "while True:\n",
    "    sleep(1)\n",
    "    try: \n",
    "        driver.find_element(By.XPATH, XPATHusername).send_keys(details['id'])\n",
    "        break\n",
    "    except:\n",
    "        pass\n",
    "sleep(0.02)\n",
    "\n",
    "XPATHpassword = '/html/body/div[1]/div[2]/div/div[1]/div/div[1]/form[1]/fieldset/div/div[3]/input'\n",
    "driver.find_element(By.XPATH, XPATHpassword).send_keys(details['password'])\n",
    "sleep(0.02)\n",
    "\n",
    "XPATHtc = '/html/body/div[1]/div[2]/div/div[1]/div/div[1]/form[1]/div[2]/fieldset/div/div/input'\n",
    "checkBox = driver.find_element(By.XPATH, XPATHtc)\n",
    "action = ActionChains(driver)\n",
    "action.move_to_element(checkBox).click().perform()\n",
    "sleep(0.02)\n",
    "\n",
    "XPATHsubmit = '/html/body/div[1]/div[2]/div/div[1]/div/div[1]/form[1]/div[3]/div/input'\n",
    "driver.find_element(By.XPATH, XPATHsubmit).click()"
   ]
  }
 ],
 "metadata": {
  "kernelspec": {
   "display_name": "Python 3",
   "language": "python",
   "name": "python3"
  },
  "language_info": {
   "codemirror_mode": {
    "name": "ipython",
    "version": 3
   },
   "file_extension": ".py",
   "mimetype": "text/x-python",
   "name": "python",
   "nbconvert_exporter": "python",
   "pygments_lexer": "ipython3",
   "version": "3.9.5"
  }
 },
 "nbformat": 4,
 "nbformat_minor": 2
}
