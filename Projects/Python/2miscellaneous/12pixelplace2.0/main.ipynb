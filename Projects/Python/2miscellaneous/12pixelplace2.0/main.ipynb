{
 "cells": [
  {
   "cell_type": "code",
   "execution_count": null,
   "metadata": {},
   "outputs": [],
   "source": [
    "import pyautogui\n",
    "import time\n",
    "import random\n",
    "from PIL import ImageGrab, Image\n",
    "\n",
    "pyautogui.PAUSE = 0.01"
   ]
  },
  {
   "cell_type": "code",
   "execution_count": null,
   "metadata": {},
   "outputs": [],
   "source": [
    "#IMPORTANT\n",
    "# STEP 1: Take a screenshot of the game, paint the cells you want of rgb(217,255,170)\n",
    "# STEP 2: Of the color you are painting with, type its rgb value\n",
    "targetColor = (125,38,205)\n",
    "# STEP 3: Looking at the image in an editor, find out the width or height of the pixelplace squares, in pixels\n",
    "squareSize = 5"
   ]
  },
  {
   "cell_type": "code",
   "execution_count": null,
   "metadata": {},
   "outputs": [],
   "source": [
    "referenceColor = (217,255,170)\n",
    "# Load reference image\n",
    "reference = Image.open(r'input image/217,255,170.png')\n",
    "\n",
    "positions = []\n",
    "for x in range(0,reference.size[0],squareSize):\n",
    "    for y in range(0,reference.size[1],squareSize):\n",
    "        pixelColor = reference.getpixel((x,y))\n",
    "        if referenceColor == pixelColor:\n",
    "            positions.append((x,y))\n",
    "\n",
    "safeSpot = ((15,positions[0][1]))"
   ]
  },
  {
   "cell_type": "code",
   "execution_count": null,
   "metadata": {},
   "outputs": [],
   "source": [
    "time.sleep(4)\n",
    "\n",
    "i = 0\n",
    "while True:\n",
    "    i += 1\n",
    "    screenshot = ImageGrab.grab()\n",
    "    if i > 0: random.shuffle(positions)\n",
    "    for position in positions:\n",
    "        pixelColor = screenshot.getpixel((position[0],position[1]))\n",
    "        #if (28,28,28) == pixelColor or (204,204,204) == pixelColor: continue\n",
    "        if targetColor != pixelColor:\n",
    "            pyautogui.doubleClick(position[0], position[1])\n",
    "    time.sleep(0.5)"
   ]
  }
 ],
 "metadata": {
  "kernelspec": {
   "display_name": "Python 3",
   "language": "python",
   "name": "python3"
  },
  "language_info": {
   "codemirror_mode": {
    "name": "ipython",
    "version": 3
   },
   "file_extension": ".py",
   "mimetype": "text/x-python",
   "name": "python",
   "nbconvert_exporter": "python",
   "pygments_lexer": "ipython3",
   "version": "3.10.3"
  }
 },
 "nbformat": 4,
 "nbformat_minor": 2
}
