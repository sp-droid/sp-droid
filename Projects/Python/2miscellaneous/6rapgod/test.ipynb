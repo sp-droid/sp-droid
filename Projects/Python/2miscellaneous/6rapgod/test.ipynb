{
 "cells": [
  {
   "cell_type": "code",
   "execution_count": 1,
   "metadata": {},
   "outputs": [],
   "source": [
    "import pydirectinput as pyd\n",
    "import pyautogui as pya\n",
    "import time"
   ]
  },
  {
   "cell_type": "code",
   "execution_count": null,
   "metadata": {},
   "outputs": [],
   "source": []
  },
  {
   "cell_type": "code",
   "execution_count": null,
   "metadata": {},
   "outputs": [],
   "source": [
    "\n",
    "/all Never gonna run around and desert you \n",
    "\n",
    "/all Never gonna make you cry \n",
    "\n",
    "/all N"
   ]
  },
  {
   "cell_type": "code",
   "execution_count": 5,
   "metadata": {},
   "outputs": [],
   "source": [
    "pyd.PAUSE = 0.000\n",
    "pya.PAUSE = 0.000\n",
    "with open('message.txt', 'r', encoding=\"utf8\") as file:\n",
    "    contents = file.read().splitlines()\n",
    "    time.sleep(3)\n",
    "    #pyd.press('enter')\n",
    "    for line in contents:\n",
    "        pyd.press('enter')\n",
    "        time.sleep(0.04)\n",
    "        pya.typewrite('/all ')\n",
    "\n",
    "        for word in line.split(' '):\n",
    "            for letter in word:\n",
    "                time.sleep(0.02)\n",
    "                pya.typewrite(letter)\n",
    "            pya.typewrite(' ')\n",
    "        time.sleep(0.04)\n",
    "        pyd.press('enter')\n",
    "        time.sleep(0.04)\n",
    "            #pya.press('enter')\n",
    "        \n",
    "        #pyd.press('enter')\n",
    "        #time.sleep(0.5)\n",
    "        #pyd.press('divide')\n",
    "        #pyd.write(line)\n",
    "        #print(line)\n",
    "        #pyd.press('enter')"
   ]
  }
 ],
 "metadata": {
  "kernelspec": {
   "display_name": "Python 3.10.3 64-bit",
   "language": "python",
   "name": "python3"
  },
  "language_info": {
   "codemirror_mode": {
    "name": "ipython",
    "version": 3
   },
   "file_extension": ".py",
   "mimetype": "text/x-python",
   "name": "python",
   "nbconvert_exporter": "python",
   "pygments_lexer": "ipython3",
   "version": "3.10.3"
  },
  "orig_nbformat": 4,
  "vscode": {
   "interpreter": {
    "hash": "9b22d928f5973cd7159b3034ea5d87b106ec4962028224788a5749e890f75777"
   }
  }
 },
 "nbformat": 4,
 "nbformat_minor": 2
}
