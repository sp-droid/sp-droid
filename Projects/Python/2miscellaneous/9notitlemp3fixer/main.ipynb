{
 "cells": [
  {
   "cell_type": "code",
   "execution_count": null,
   "metadata": {},
   "outputs": [],
   "source": [
    "import os\n",
    "from pathlib import Path\n",
    "\n",
    "import eyed3\n",
    "from bing import Bing\n",
    "from tqdm.notebook import tqdm"
   ]
  },
  {
   "cell_type": "code",
   "execution_count": null,
   "metadata": {},
   "outputs": [],
   "source": [
    "tracks = os.listdir('tracks/')"
   ]
  },
  {
   "cell_type": "code",
   "execution_count": null,
   "metadata": {},
   "outputs": [],
   "source": [
    "for name in tqdm(tracks):\n",
    "    author, releaseDate, title = name.split('.mp3')[0].split(' - ')\n",
    "    \n",
    "    bing = Bing(f'portrait {author} \"{title}\"', 1, Path(fr'images/').absolute(), 'off', 60, verbose=False)\n",
    "    bing.run()\n",
    "\n",
    "    audio = eyed3.load(fr'tracks/{name}')\n",
    "\n",
    "    audio.initTag()\n",
    "    audio.tag.title = title\n",
    "    audio.tag.artist = author\n",
    "    audio.tag.track_num = 0\n",
    "    audio.tag.album = f'{releaseDate}-{author}'\n",
    "    audio.tag.images.set(3, open('images/Image_1.jpg', 'rb').read(), 'image/jpeg')\n",
    "    audio.tag.save(version=eyed3.id3.ID3_V2_3)"
   ]
  }
 ],
 "metadata": {
  "kernelspec": {
   "display_name": "Python 3",
   "language": "python",
   "name": "python3"
  },
  "language_info": {
   "codemirror_mode": {
    "name": "ipython",
    "version": 3
   },
   "file_extension": ".py",
   "mimetype": "text/x-python",
   "name": "python",
   "nbconvert_exporter": "python",
   "pygments_lexer": "ipython3",
   "version": "3.10.3"
  },
  "orig_nbformat": 4
 },
 "nbformat": 4,
 "nbformat_minor": 2
}
