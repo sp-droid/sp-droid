{
 "metadata": {
  "language_info": {
   "codemirror_mode": {
    "name": "ipython",
    "version": 3
   },
   "file_extension": ".py",
   "mimetype": "text/x-python",
   "name": "python",
   "nbconvert_exporter": "python",
   "pygments_lexer": "ipython3",
   "version": "3.8.5-final"
  },
  "orig_nbformat": 2,
  "kernelspec": {
   "name": "Python 3.8.5 32-bit",
   "display_name": "Python 3.8.5 32-bit",
   "metadata": {
    "interpreter": {
     "hash": "b126237f7ca490168c753438f1a9290c28cbd925e59b6904365c99f1dc93c750"
    }
   }
  }
 },
 "nbformat": 4,
 "nbformat_minor": 2,
 "cells": [
  {
   "cell_type": "code",
   "execution_count": 7,
   "metadata": {},
   "outputs": [
    {
     "output_type": "stream",
     "name": "stdout",
     "text": [
      "Chance of winning [[0.52]]\nChance of winning [[0.514]]\n"
     ]
    }
   ],
   "source": [
    "import mymachinelearning as ml\n",
    "import numpy as np\n",
    "\n",
    "layers = [ml.Layer(152,20,'leakyReLU'), ml.Layer(20,1,'sigmoid')]\n",
    "\n",
    "i=0\n",
    "for layer in layers:\n",
    "    i+=1\n",
    "    name='NNlayer'+str(i)\n",
    "    layer.loadNN(name)\n",
    "\n",
    "## NN Prediction\n",
    "allied = [53, 29, 143, 47, 104]\n",
    "enemy = [9, 64, 39, 36, 91]\n",
    "x = [0]*152\n",
    "\n",
    "for i in range(152):\n",
    "    id = i+1\n",
    "    for element in allied:\n",
    "        if id==element:\n",
    "            x[i]=1\n",
    "    for element in enemy:\n",
    "        if id==element:\n",
    "            x[i]=-1\n",
    "x = np.array([x]).T\n",
    "\n",
    "for layer in layers:\n",
    "    y = layer.feedforward(x)\n",
    "    x = y\n",
    "print(\"Chance of winning\",np.round(y,3))\n",
    "\n",
    "## NN Prediction\n",
    "enemy = [53, 29, 143, 47, 104]\n",
    "allied = [9, 64, 39, 36, 91]\n",
    "x = [0]*152\n",
    "\n",
    "for i in range(152):\n",
    "    id = i+1\n",
    "    for element in allied:\n",
    "        if id==element:\n",
    "            x[i]=1\n",
    "    for element in enemy:\n",
    "        if id==element:\n",
    "            x[i]=-1\n",
    "x = np.array([x]).T\n",
    "\n",
    "for layer in layers:\n",
    "    y = layer.feedforward(x)\n",
    "    x = y\n",
    "print(\"Chance of winning\",np.round(y,3))"
   ]
  },
  {
   "cell_type": "code",
   "execution_count": null,
   "metadata": {},
   "outputs": [],
   "source": []
  }
 ]
}