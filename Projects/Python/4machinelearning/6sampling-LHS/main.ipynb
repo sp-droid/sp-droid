{
 "cells": [
  {
   "cell_type": "code",
   "execution_count": null,
   "metadata": {},
   "outputs": [],
   "source": [
    "import numpy as np\n",
    "import matplotlib.pyplot as plt"
   ]
  },
  {
   "cell_type": "code",
   "execution_count": null,
   "metadata": {},
   "outputs": [],
   "source": [
    "def latin_hypercube_2d_uniform(n):  #n == number of samples\n",
    "    lower_limits = np.arange(0, n)/n\n",
    "    upper_limits = np.arange(1, n+1)/n\n",
    "\n",
    "    points = np.random.uniform(low=lower_limits, high=upper_limits, size=[2, n]).T\n",
    "    np.random.shuffle(points[:,1])\n",
    "\n",
    "    return points"
   ]
  },
  {
   "cell_type": "code",
   "execution_count": null,
   "metadata": {},
   "outputs": [],
   "source": [
    "n = 6\n",
    "p = latin_hypercube_2d_uniform(n)\n",
    "\n",
    "plt.figure(figsize=[5, 5])\n",
    "plt.xlim(0, 1)\n",
    "plt.ylim(0, 1)\n",
    "plt.scatter(p[:,0], p[:,1], c = 'r')\n",
    "\n",
    "for i in np.arange(0, 1+1/n, 1/n):\n",
    "    plt.axvline(i)\n",
    "    plt.axhline(i)\n",
    "plt.show()\n"
   ]
  },
  {
   "cell_type": "code",
   "execution_count": null,
   "metadata": {},
   "outputs": [],
   "source": [
    "p"
   ]
  },
  {
   "cell_type": "code",
   "execution_count": null,
   "metadata": {},
   "outputs": [],
   "source": []
  }
 ],
 "metadata": {
  "kernelspec": {
   "display_name": "Python 3.8.5 32-bit",
   "metadata": {
    "interpreter": {
     "hash": "b126237f7ca490168c753438f1a9290c28cbd925e59b6904365c99f1dc93c750"
    }
   },
   "name": "python3"
  },
  "language_info": {
   "codemirror_mode": {
    "name": "ipython",
    "version": 3
   },
   "file_extension": ".py",
   "mimetype": "text/x-python",
   "name": "python",
   "nbconvert_exporter": "python",
   "pygments_lexer": "ipython3",
   "version": "3.8.5-final"
  },
  "orig_nbformat": 2
 },
 "nbformat": 4,
 "nbformat_minor": 2
}
