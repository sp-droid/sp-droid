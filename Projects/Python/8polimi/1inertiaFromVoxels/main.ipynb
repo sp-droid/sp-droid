{
 "cells": [
  {
   "cell_type": "code",
   "execution_count": null,
   "metadata": {},
   "outputs": [],
   "source": [
    "import numpy as np\n",
    "import pandas as pd\n",
    "import matplotlib.pyplot as plt"
   ]
  },
  {
   "attachments": {},
   "cell_type": "markdown",
   "metadata": {},
   "source": [
    "# Any Voxel Based Image or Model"
   ]
  },
  {
   "cell_type": "code",
   "execution_count": null,
   "metadata": {},
   "outputs": [],
   "source": [
    "# Go to this website: https://drububu.com/miscellaneous/voxelizer/?out=obj\n",
    "# Import a model or image, export as txt and place the file in this folder as \"voxelizer.txt\""
   ]
  },
  {
   "cell_type": "code",
   "execution_count": null,
   "metadata": {},
   "outputs": [],
   "source": [
    "coords = np.loadtxt('voxelizer.txt', unpack=True, delimiter=',', dtype=float)\n",
    "coords[[1,2]] = coords[[2,1]]\n",
    "coords = coords[:3,:]\n",
    "coords *= 2.9759/660 *2.1/1.9 #scale\n",
    "colors = list(zip(*coords/max(coords.ravel()).tolist()))\n",
    "\n",
    "center = np.mean(coords, axis=1)\n",
    "coords = (coords.T - center).T\n",
    "\n",
    "x, y, z = coords\n",
    "center # Pre-adjustment"
   ]
  },
  {
   "cell_type": "code",
   "execution_count": null,
   "metadata": {},
   "outputs": [],
   "source": [
    "fig = plt.figure(figsize=(10,10))\n",
    "ax = fig.add_subplot(projection='3d')\n",
    "ax.scatter(x, y, z, s=0.001, color=colors)\n",
    "ax.set_xlabel('X')\n",
    "ax.set_ylabel('Y')\n",
    "ax.set_zlabel('Z')\n",
    "ax.view_init(elev=15, azim=-75, roll=0)\n",
    "ax.xaxis.set_major_locator(plt.MaxNLocator(5))\n",
    "ax.yaxis.set_major_locator(plt.MaxNLocator(5))\n",
    "ax.zaxis.set_major_locator(plt.MaxNLocator(5))\n",
    "xlim = ax.get_xlim3d()\n",
    "ylim = ax.get_ylim3d()\n",
    "zlim = ax.get_zlim3d()\n",
    "ax.set_box_aspect((xlim[1]-xlim[0], ylim[1]-ylim[0], zlim[1]-zlim[0]))\n",
    "plt.show()"
   ]
  },
  {
   "cell_type": "code",
   "execution_count": null,
   "metadata": {},
   "outputs": [],
   "source": [
    "print(max(x)-min(x))\n",
    "print(max(y)-min(y))\n",
    "print(max(z)-min(z))"
   ]
  },
  {
   "cell_type": "code",
   "execution_count": null,
   "metadata": {},
   "outputs": [],
   "source": [
    "# This is an input. We assume mass in evenly distributed so each voxel has the same mass. We need the total dry mass\n",
    "mTotal = 1593                   # kg\n",
    "N = coords.shape[1]             # Number of voxels\n",
    "\n",
    "mi = mTotal/N\n",
    "\n",
    "Ix = sum(mi*(y**2+z**2))\n",
    "Iy = sum(mi*(x**2+z**2))\n",
    "Iz = sum(mi*(x**2+y**2))\n",
    "Ixy = sum(-mi*(np.multiply(x,y)))\n",
    "Ixz = sum(-mi*(np.multiply(x,z)))\n",
    "Iyz = sum(-mi*(np.multiply(y,z)))\n",
    "\n",
    "I = np.array([[Ix, Ixy, Ixz],[Ixy, Iy, Iyz],[Ixz, Iyz, Iz]])\n",
    "pd.DataFrame(I).style.background_gradient(cmap='coolwarm', axis=None)"
   ]
  }
 ],
 "metadata": {
  "kernelspec": {
   "display_name": "Python 3",
   "language": "python",
   "name": "python3"
  },
  "language_info": {
   "codemirror_mode": {
    "name": "ipython",
    "version": 3
   },
   "file_extension": ".py",
   "mimetype": "text/x-python",
   "name": "python",
   "nbconvert_exporter": "python",
   "pygments_lexer": "ipython3",
   "version": "3.12.2"
  },
  "orig_nbformat": 4
 },
 "nbformat": 4,
 "nbformat_minor": 2
}
