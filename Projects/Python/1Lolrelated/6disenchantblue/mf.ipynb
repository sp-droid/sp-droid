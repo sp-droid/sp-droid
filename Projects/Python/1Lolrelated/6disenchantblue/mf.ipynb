{
 "cells": [
  {
   "cell_type": "code",
   "execution_count": 3,
   "metadata": {},
   "outputs": [],
   "source": [
    "import pydirectinput as pyd\n",
    "import pyautogui as pya\n",
    "import time\n",
    "\n",
    "pyd.PAUSE = 0.000\n",
    "pya.PAUSE = 0.000\n",
    "interval = 0.02\n",
    "\n",
    "message = 'This player was inting, possibly cheating, using scripts, saying racial slurs, homophobic comments, transphobic comments, misogynistic comments. This player ran it down mid, top and bot. This player intentionally died multiple times.'"
   ]
  },
  {
   "cell_type": "code",
   "execution_count": 4,
   "metadata": {},
   "outputs": [],
   "source": [
    "time.sleep(8)\n",
    "pos = pyd.position()\n",
    "#print(pos[0]-1080)\n",
    "\n",
    "xPos = [0,0,0,0,0,0,0,90,200]\n",
    "yPos = [0,42,102,148,192,238,280,344,406]\n",
    "playerXpos = -160\n",
    "playerYpos = [-6,30,72,112,190,232,272,312,356]\n",
    "\n",
    "for player in range(10):\n",
    "    if player!=0:\n",
    "        pyd.click(*(pos[0]+playerXpos, pos[1]+playerYpos[player-1]))\n",
    "        time.sleep(interval*10)\n",
    "    for i in range(8):\n",
    "        pyd.click(*(pos[0]+xPos[i], pos[1]+yPos[i]))\n",
    "        time.sleep(interval)\n",
    "\n",
    "    for word in message.split(' '):\n",
    "        for letter in word:\n",
    "            time.sleep(0.01)\n",
    "            pya.typewrite(letter)\n",
    "        pya.typewrite(' ')\n",
    "    time.sleep(interval)\n",
    "\n",
    "    pyd.click(*(pos[0]+xPos[8], pos[1]+yPos[8]))\n",
    "    time.sleep(interval*10)"
   ]
  }
 ],
 "metadata": {
  "kernelspec": {
   "display_name": "Python 3",
   "language": "python",
   "name": "python3"
  },
  "language_info": {
   "codemirror_mode": {
    "name": "ipython",
    "version": 3
   },
   "file_extension": ".py",
   "mimetype": "text/x-python",
   "name": "python",
   "nbconvert_exporter": "python",
   "pygments_lexer": "ipython3",
   "version": "3.10.3"
  },
  "orig_nbformat": 4
 },
 "nbformat": 4,
 "nbformat_minor": 2
}
