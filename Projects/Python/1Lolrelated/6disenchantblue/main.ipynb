{
 "cells": [
  {
   "cell_type": "code",
   "execution_count": 1,
   "metadata": {},
   "outputs": [],
   "source": [
    "import pydirectinput as pyd\n",
    "import pyautogui as pya\n",
    "import time"
   ]
  },
  {
   "cell_type": "code",
   "execution_count": null,
   "metadata": {},
   "outputs": [],
   "source": [
    "time.sleep(5)\n",
    "pos = pyd.position()\n",
    "while True:\n",
    "    pyd.click(*pos)\n",
    "    time.sleep(0.5)\n",
    "    pyd.click(*tuple(map(sum, zip(pos, (173, 40)))))\n",
    "    time.sleep(0.5)\n",
    "    pyd.click(*tuple(map(sum, zip(pos, (434, -6)))))\n",
    "    time.sleep(1.5)"
   ]
  },
  {
   "cell_type": "code",
   "execution_count": 19,
   "metadata": {},
   "outputs": [],
   "source": [
    "interval = 0.02\n",
    "\n",
    "time.sleep(3)\n",
    "pos = pyd.position()\n",
    "for i in range(2,10):\n",
    "    if i>4: k = 33\n",
    "    else: k = 0\n",
    "\n",
    "    time.sleep(interval)\n",
    "    pyd.click(*(pos[0], i*42+k+pos[1]))\n",
    "    time.sleep(interval)\n",
    "    pyd.click(*(202+pos[0], 77+pos[1]))\n",
    "    time.sleep(interval)\n",
    "    pyd.click(*(202+pos[0], 125+pos[1]))\n",
    "    time.sleep(interval)\n",
    "    pyd.click(*(202+pos[0], 331+pos[1]))\n",
    "    time.sleep(interval)\n",
    "    pyd.click(*(358+pos[0], 440+pos[1]))\n"
   ]
  }
 ],
 "metadata": {
  "kernelspec": {
   "display_name": "Python 3.10.3 64-bit",
   "language": "python",
   "name": "python3"
  },
  "language_info": {
   "codemirror_mode": {
    "name": "ipython",
    "version": 3
   },
   "file_extension": ".py",
   "mimetype": "text/x-python",
   "name": "python",
   "nbconvert_exporter": "python",
   "pygments_lexer": "ipython3",
   "version": "3.10.3 (tags/v3.10.3:a342a49, Mar 16 2022, 13:07:40) [MSC v.1929 64 bit (AMD64)]"
  },
  "orig_nbformat": 4,
  "vscode": {
   "interpreter": {
    "hash": "9b22d928f5973cd7159b3034ea5d87b106ec4962028224788a5749e890f75777"
   }
  }
 },
 "nbformat": 4,
 "nbformat_minor": 2
}
