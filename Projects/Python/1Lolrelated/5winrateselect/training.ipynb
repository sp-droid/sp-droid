{
 "cells": [
  {
   "cell_type": "code",
   "execution_count": null,
   "metadata": {},
   "outputs": [],
   "source": [
    "import myML\n",
    "import lol_library\n",
    "import matplotlib.pyplot as plt"
   ]
  },
  {
   "cell_type": "code",
   "execution_count": null,
   "metadata": {},
   "outputs": [],
   "source": [
    "#Gather league games from Master tier and store the information\n",
    "lol_library.gathergames()"
   ]
  },
  {
   "cell_type": "code",
   "execution_count": null,
   "metadata": {},
   "outputs": [],
   "source": [
    "#Process the dataset\n",
    "X_train, Y_train = lol_library.processgames()"
   ]
  },
  {
   "cell_type": "code",
   "execution_count": null,
   "metadata": {},
   "outputs": [],
   "source": [
    "#Train a model for future use\n",
    "nodes = [X_train.shape[0], 2, Y_train.shape[0]]\n",
    "activation = ['ReLU', 'sigmoid']\n",
    "loss = 'logloss'\n",
    "epochs = 60000\n",
    "\n",
    "model = myML.ANN(nodes, activation, loss)\n",
    "costs = model.train(X_train, Y_train, epochs, 'GD', lr=0.01, lambd=0)\n",
    "\n",
    "\n",
    "plt.plot(range(epochs),costs)\n",
    "plt.xlabel('Epoch')\n",
    "plt.ylabel('Cost function error')\n",
    "plt.show()\n",
    "costs[-1]"
   ]
  },
  {
   "cell_type": "code",
   "execution_count": null,
   "metadata": {},
   "outputs": [],
   "source": [
    "#Store the layers of the network\n",
    "model.storelayers()"
   ]
  },
  {
   "cell_type": "code",
   "execution_count": null,
   "metadata": {},
   "outputs": [],
   "source": [
    "nodes = [int(13*5), 2, 1]\n",
    "activation = ['ReLU', 'sigmoid']\n",
    "loss = 'logloss'\n",
    "model = myML.ANN(nodes, activation, loss)\n",
    "DIR = 'myML/NNdata.pkl'\n",
    "\n",
    "model.loadlayers(DIR)"
   ]
  },
  {
   "cell_type": "code",
   "execution_count": null,
   "metadata": {},
   "outputs": [],
   "source": [
    "print(model.layers[0].w[0,0+3*13])"
   ]
  }
 ],
 "metadata": {
  "interpreter": {
   "hash": "334db4cc05ce238ca1a7019a643678253efa18870d623550a72f43be86b1c78d"
  },
  "kernelspec": {
   "display_name": "Python 3.9.2 64-bit",
   "name": "python3"
  },
  "language_info": {
   "codemirror_mode": {
    "name": "ipython",
    "version": 3
   },
   "file_extension": ".py",
   "mimetype": "text/x-python",
   "name": "python",
   "nbconvert_exporter": "python",
   "pygments_lexer": "ipython3",
   "version": "3.9.2"
  },
  "orig_nbformat": 4
 },
 "nbformat": 4,
 "nbformat_minor": 2
}
