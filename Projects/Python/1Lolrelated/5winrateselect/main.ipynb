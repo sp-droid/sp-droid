{
 "cells": [
  {
   "cell_type": "code",
   "execution_count": null,
   "source": [
    "import lol_library\r\n",
    "import os"
   ],
   "outputs": [],
   "metadata": {}
  },
  {
   "cell_type": "code",
   "execution_count": null,
   "source": [
    "lol_library.aftergame(players, champs, positions, playerspecific, matchhistory)"
   ],
   "outputs": [],
   "metadata": {}
  },
  {
   "cell_type": "code",
   "execution_count": null,
   "source": [
    "## DEPRECATED FOR AUTOMATED DATA\r\n",
    "\r\n",
    "## Joining the lobby\r\n",
    "temp = input ('Paste the message you get when entering the lobby (only 5 unique summoners): ')\r\n",
    "temp = temp.split(' joined')\r\n",
    "players = [temp[0]]*5\r\n",
    "for i in range(1,5):\r\n",
    "    players[i] = temp[i].split('lobby ')[1]\r\n",
    "\r\n",
    "playerspecific, matchhistory = lol_library.leaguecollect(players, 12, targetstamp=0)\r\n",
    "\r\n",
    "## Ready to say the role of each summoner\r\n",
    "positions = [None]*5\r\n",
    "for i in range(5):\r\n",
    "    print('The roles are: top, mid, jung, adc and supp')\r\n",
    "    while 1>0:\r\n",
    "        positions[i] = input ('Enter the role of '+players[i])\r\n",
    "        if positions[i] == 'top' or positions[i] == 'mid' or positions[i] == 'jung' or positions[i] == 'adc' or positions[i] == 'supp': break\r\n",
    "    _ = os.system('cls')\r\n",
    "\r\n",
    "## Ready to say the champ of each summoner\r\n",
    "champs = [None]*5\r\n",
    "for i in range(5):\r\n",
    "    print('If you type the names wrong the program will print a list with every champion that starts with the letter you first typed')\r\n",
    "    while 1>0:\r\n",
    "        champs[i] = input ('Enter the champion chosen by '+players[i])\r\n",
    "        if lol_library.champfinder(champs[i]) == True: break\r\n",
    "        if champs[i] == 'SKIP': break\r\n",
    "        print('Type SKIP after trying if you cannot type it correctly')\r\n",
    "    _ = os.system('cls')\r\n",
    "\r\n",
    "X = lol_library.inftreatment(playerspecific, matchhistory, positions, champs)\r\n",
    "Y = lol_library.estimate(X)\r\n",
    "\r\n",
    "print('Estimated chance of winning: '+str(Y)+'%')"
   ],
   "outputs": [],
   "metadata": {}
  }
 ],
 "metadata": {
  "orig_nbformat": 4,
  "language_info": {
   "name": "python",
   "version": "3.9.2",
   "mimetype": "text/x-python",
   "codemirror_mode": {
    "name": "ipython",
    "version": 3
   },
   "pygments_lexer": "ipython3",
   "nbconvert_exporter": "python",
   "file_extension": ".py"
  },
  "kernelspec": {
   "name": "python3",
   "display_name": "Python 3.9.2 64-bit"
  },
  "interpreter": {
   "hash": "334db4cc05ce238ca1a7019a643678253efa18870d623550a72f43be86b1c78d"
  }
 },
 "nbformat": 4,
 "nbformat_minor": 2
}