{
 "cells": [
  {
   "cell_type": "code",
   "execution_count": null,
   "metadata": {},
   "outputs": [],
   "source": [
    "import matplotlib.pyplot as plt\n",
    "import numpy as np\n",
    "import myML\n",
    "import os\n",
    "from PIL import Image\n",
    "Image.MAX_IMAGE_PIXELS = None"
   ]
  },
  {
   "cell_type": "code",
   "execution_count": null,
   "metadata": {},
   "outputs": [],
   "source": [
    "def RGBtohue(RGB):\n",
    "    R, G, B = RGB\n",
    "    if R>=G and G>=B: temp = (G-B)/(R-B)\n",
    "    elif G>=R and R>=B: temp = 2-(R-B)/(G-B)\n",
    "    elif G>=B and B>=R: temp = 2+(B-R)/(G-R)\n",
    "    elif B>=G and G>=R: temp = 4-(G-R)/(B-R)\n",
    "    elif B>=R and R>=G: temp = 4+(R-G)/(B-G)\n",
    "    elif R>=B and B>=G: temp = 6-(B-G)/(R-G)\n",
    "    return temp*60"
   ]
  },
  {
   "cell_type": "code",
   "execution_count": null,
   "metadata": {},
   "outputs": [],
   "source": [
    "# Load training images. Each image shouldn't have unwanted pixels (surroundings) and must be named with the known pH value\n",
    "location = os.getcwd()+'\\\\training\\\\'\n",
    "rg = np.empty((2,len(os.listdir(location))))\n",
    "Y_train = np.empty((1,len(os.listdir(location))))\n",
    "X_train = np.empty((1,len(os.listdir(location))))\n",
    "\n",
    "for count, file in enumerate(os.listdir(location)):\n",
    "    RGB = [np.mean(x) for x in np.array(Image.open(location+file)).T]\n",
    "    X_train[0,count] = RGBtohue(RGB)+20\n",
    "    if X_train[0,count]>360: X_train[0,count]-=360\n",
    "    Y_train[0,count] = float(file.split('.jpg')[0])\n",
    "\n",
    "#Sort by ascending ph\n",
    "order = np.argsort(X_train)[0]\n",
    "X_train = X_train[:,order]\n",
    "Y_train = Y_train[:,order]\n",
    "\n",
    "\n",
    "plt.hlines(1,0,360)  # Draw a horizontal line\n",
    "plt.xlim(0,360)\n",
    "plt.ylim(0.5,1.5)\n",
    "\n",
    "y = np.ones(np.shape(X_train[0,:]))   # Make all y values the same\n",
    "plt.plot(X_train[0,:],y,'|',ms = 40)  # Plot a line at each location specified\n",
    "for count in range(X_train.shape[1]):\n",
    "    if count % 2: pos = 1.2\n",
    "    else: pos = 0.8\n",
    "    plt.annotate(round(Y_train[0,count],1), [X_train[0,count], pos], fontsize=8)\n",
    "plt.axis('off')\n",
    "plt.rcParams['figure.figsize'] = (24, 3)\n",
    "plt.show()\n",
    "\n",
    "#Normalization\n",
    "Xnorm, Ynorm = myML.norm0to1_minmax([1,1],[0,0]), myML.norm0to1_minmax([14],[0])\n",
    "#X_train, Y_train = Xnorm.normalize(X_train), Ynorm.normalize(Y_train)\n",
    "Y_train = Ynorm.normalize(Y_train)"
   ]
  },
  {
   "cell_type": "code",
   "execution_count": null,
   "metadata": {},
   "outputs": [],
   "source": [
    "Ynorm.recover(Y_train)"
   ]
  },
  {
   "cell_type": "code",
   "execution_count": null,
   "metadata": {},
   "outputs": [],
   "source": [
    "#Cross-validation using the training samples to find the elbow of the curve (to avoid under or overfitting)\n",
    "epochs = 500        #Times that the entire dataset is used to train the NN\n",
    "lr = 2            #Learning rate\n",
    "lambd = 0           #Regularization term\n",
    "activation = ['ReLU','sigmoid']\n",
    "lossname = 'MSE'\n",
    "optimizer = 'GD'\n",
    "\n",
    "n = 14\n",
    "yplot_train = np.zeros(n)\n",
    "times = 10\n",
    "for i in range(1,n+1):\n",
    "    nodes = [X_train.shape[0], i, Y_train.shape[0]]\n",
    "    #print('Trying with '+str(i)+' nodes in the hidden layer')\n",
    "    aux_train = 500\n",
    "    for j in range(times):\n",
    "        np.random.seed(None)\n",
    "        neuralnetwork = myML.ANN(nodes, activation, lossname)\n",
    "        costs = neuralnetwork.train(X_train, Y_train, epochs, optimizer, lr, lambd)\n",
    "        if costs[epochs-1]<aux_train: aux_train = costs[epochs-1]\n",
    "\n",
    "    yplot_train[i-1] = aux_train\n",
    "\n",
    "plt.plot(range(1,n+1),yplot_train,label='Training set error')\n",
    "plt.xlabel('Nº of neurons in hidden layer')\n",
    "plt.ylabel('Cost function error')\n",
    "plt.legend(loc='best')\n",
    "plt.show()"
   ]
  },
  {
   "cell_type": "code",
   "execution_count": null,
   "metadata": {},
   "outputs": [],
   "source": [
    "#Train a model for future use\n",
    "nodes = [X_train.shape[0], 6, Y_train.shape[0]]\n",
    "activation = ['ReLU','sigmoid']\n",
    "loss = 'MSE'\n",
    "epochs = 10000\n",
    "\n",
    "model = myML.ANN(nodes, activation, loss)\n",
    "costs = model.train(X_train, Y_train, epochs, 'GD', lr=0.1, lambd=0, printepochs=False)\n",
    "\n",
    "print(Ynorm.recover(Y_train))\n",
    "print(Ynorm.recover(model.test(X_train)))\n",
    "\n",
    "plt.plot(range(epochs),costs)\n",
    "plt.xlabel('Epoch')\n",
    "plt.ylabel('Cost function error')\n",
    "plt.show()\n",
    "costs[-1]"
   ]
  },
  {
   "cell_type": "code",
   "execution_count": null,
   "metadata": {},
   "outputs": [],
   "source": [
    "# Load training images. Each image shouldn't have unwanted pixels (surroundings) and must be named with the known pH value\n",
    "location = os.getcwd()+'\\\\test\\\\'\n",
    "X = np.empty((2,1))\n",
    "\n",
    "for count, file in enumerate(os.listdir(location)):\n",
    "    RGB = [np.mean(x) for x in np.array(Image.open(location+file)).T]\n",
    "    X[:,0] = RGB[0]/(RGB[0]+RGB[1]+RGB[2]), RGB[1]/(RGB[0]+RGB[1]+RGB[2])\n",
    "    print(file.split('.jpg')[0])\n",
    "    X = Xnorm.normalize(X)\n",
    "\n",
    "    Y = model.test(X)\n",
    "    print(round(Ynorm.recover(Y)[0,0],3))"
   ]
  }
 ],
 "metadata": {
  "interpreter": {
   "hash": "334db4cc05ce238ca1a7019a643678253efa18870d623550a72f43be86b1c78d"
  },
  "kernelspec": {
   "display_name": "Python 3.9.2 64-bit",
   "language": "python",
   "name": "python3"
  },
  "language_info": {
   "codemirror_mode": {
    "name": "ipython",
    "version": 3
   },
   "file_extension": ".py",
   "mimetype": "text/x-python",
   "name": "python",
   "nbconvert_exporter": "python",
   "pygments_lexer": "ipython3",
   "version": "3.9.2"
  },
  "orig_nbformat": 4
 },
 "nbformat": 4,
 "nbformat_minor": 2
}
